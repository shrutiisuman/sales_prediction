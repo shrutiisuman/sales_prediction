{
 "cells": [
  {
   "cell_type": "code",
   "execution_count": 11,
   "id": "37a7bf7c",
   "metadata": {},
   "outputs": [],
   "source": [
    "import pandas as pd\n",
    "import numpy as np\n",
    "import seaborn as sns\n",
    "import matplotlib.pyplot as plt\n",
    "\n",
    "\n",
    "from warnings import filterwarnings\n",
    "filterwarnings(action='ignore')"
   ]
  },
  {
   "cell_type": "code",
   "execution_count": 5,
   "id": "616c41b0",
   "metadata": {},
   "outputs": [
    {
     "name": "stdout",
     "output_type": "stream",
     "text": [
      "   Unnamed: 0     TV  Radio  Newspaper  Sales\n",
      "0           1  230.1   37.8       69.2   22.1\n",
      "1           2   44.5   39.3       45.1   10.4\n",
      "2           3   17.2   45.9       69.3    9.3\n",
      "3           4  151.5   41.3       58.5   18.5\n",
      "4           5  180.8   10.8       58.4   12.9\n"
     ]
    }
   ],
   "source": [
    "df = pd.read_csv(\"C:/Users/sriva/Downloads/Advertising.csv\")\n",
    "print(df.head())"
   ]
  },
  {
   "cell_type": "code",
   "execution_count": 6,
   "id": "c5e671cc",
   "metadata": {},
   "outputs": [
    {
     "data": {
      "text/plain": [
       "(200, 5)"
      ]
     },
     "execution_count": 6,
     "metadata": {},
     "output_type": "execute_result"
    }
   ],
   "source": [
    "df.shape"
   ]
  },
  {
   "cell_type": "code",
   "execution_count": 7,
   "id": "6ce0da0b",
   "metadata": {},
   "outputs": [
    {
     "data": {
      "text/plain": [
       "['Unnamed: 0', 'TV', 'Radio', 'Newspaper', 'Sales']"
      ]
     },
     "execution_count": 7,
     "metadata": {},
     "output_type": "execute_result"
    }
   ],
   "source": [
    "df.columns.values.tolist()"
   ]
  },
  {
   "cell_type": "code",
   "execution_count": 8,
   "id": "71a4f49e",
   "metadata": {},
   "outputs": [
    {
     "name": "stdout",
     "output_type": "stream",
     "text": [
      "<class 'pandas.core.frame.DataFrame'>\n",
      "RangeIndex: 200 entries, 0 to 199\n",
      "Data columns (total 5 columns):\n",
      " #   Column      Non-Null Count  Dtype  \n",
      "---  ------      --------------  -----  \n",
      " 0   Unnamed: 0  200 non-null    int64  \n",
      " 1   TV          200 non-null    float64\n",
      " 2   Radio       200 non-null    float64\n",
      " 3   Newspaper   200 non-null    float64\n",
      " 4   Sales       200 non-null    float64\n",
      "dtypes: float64(4), int64(1)\n",
      "memory usage: 7.9 KB\n"
     ]
    }
   ],
   "source": [
    "df.info()"
   ]
  },
  {
   "cell_type": "code",
   "execution_count": 9,
   "id": "00f8dc1e",
   "metadata": {},
   "outputs": [
    {
     "data": {
      "text/html": [
       "<div>\n",
       "<style scoped>\n",
       "    .dataframe tbody tr th:only-of-type {\n",
       "        vertical-align: middle;\n",
       "    }\n",
       "\n",
       "    .dataframe tbody tr th {\n",
       "        vertical-align: top;\n",
       "    }\n",
       "\n",
       "    .dataframe thead th {\n",
       "        text-align: right;\n",
       "    }\n",
       "</style>\n",
       "<table border=\"1\" class=\"dataframe\">\n",
       "  <thead>\n",
       "    <tr style=\"text-align: right;\">\n",
       "      <th></th>\n",
       "      <th>Unnamed: 0</th>\n",
       "      <th>TV</th>\n",
       "      <th>Radio</th>\n",
       "      <th>Newspaper</th>\n",
       "      <th>Sales</th>\n",
       "    </tr>\n",
       "  </thead>\n",
       "  <tbody>\n",
       "    <tr>\n",
       "      <th>count</th>\n",
       "      <td>200.000000</td>\n",
       "      <td>200.000000</td>\n",
       "      <td>200.000000</td>\n",
       "      <td>200.000000</td>\n",
       "      <td>200.000000</td>\n",
       "    </tr>\n",
       "    <tr>\n",
       "      <th>mean</th>\n",
       "      <td>100.500000</td>\n",
       "      <td>147.042500</td>\n",
       "      <td>23.264000</td>\n",
       "      <td>30.554000</td>\n",
       "      <td>14.022500</td>\n",
       "    </tr>\n",
       "    <tr>\n",
       "      <th>std</th>\n",
       "      <td>57.879185</td>\n",
       "      <td>85.854236</td>\n",
       "      <td>14.846809</td>\n",
       "      <td>21.778621</td>\n",
       "      <td>5.217457</td>\n",
       "    </tr>\n",
       "    <tr>\n",
       "      <th>min</th>\n",
       "      <td>1.000000</td>\n",
       "      <td>0.700000</td>\n",
       "      <td>0.000000</td>\n",
       "      <td>0.300000</td>\n",
       "      <td>1.600000</td>\n",
       "    </tr>\n",
       "    <tr>\n",
       "      <th>25%</th>\n",
       "      <td>50.750000</td>\n",
       "      <td>74.375000</td>\n",
       "      <td>9.975000</td>\n",
       "      <td>12.750000</td>\n",
       "      <td>10.375000</td>\n",
       "    </tr>\n",
       "    <tr>\n",
       "      <th>50%</th>\n",
       "      <td>100.500000</td>\n",
       "      <td>149.750000</td>\n",
       "      <td>22.900000</td>\n",
       "      <td>25.750000</td>\n",
       "      <td>12.900000</td>\n",
       "    </tr>\n",
       "    <tr>\n",
       "      <th>75%</th>\n",
       "      <td>150.250000</td>\n",
       "      <td>218.825000</td>\n",
       "      <td>36.525000</td>\n",
       "      <td>45.100000</td>\n",
       "      <td>17.400000</td>\n",
       "    </tr>\n",
       "    <tr>\n",
       "      <th>max</th>\n",
       "      <td>200.000000</td>\n",
       "      <td>296.400000</td>\n",
       "      <td>49.600000</td>\n",
       "      <td>114.000000</td>\n",
       "      <td>27.000000</td>\n",
       "    </tr>\n",
       "  </tbody>\n",
       "</table>\n",
       "</div>"
      ],
      "text/plain": [
       "       Unnamed: 0          TV       Radio   Newspaper       Sales\n",
       "count  200.000000  200.000000  200.000000  200.000000  200.000000\n",
       "mean   100.500000  147.042500   23.264000   30.554000   14.022500\n",
       "std     57.879185   85.854236   14.846809   21.778621    5.217457\n",
       "min      1.000000    0.700000    0.000000    0.300000    1.600000\n",
       "25%     50.750000   74.375000    9.975000   12.750000   10.375000\n",
       "50%    100.500000  149.750000   22.900000   25.750000   12.900000\n",
       "75%    150.250000  218.825000   36.525000   45.100000   17.400000\n",
       "max    200.000000  296.400000   49.600000  114.000000   27.000000"
      ]
     },
     "execution_count": 9,
     "metadata": {},
     "output_type": "execute_result"
    }
   ],
   "source": [
    "df.describe()"
   ]
  },
  {
   "cell_type": "code",
   "execution_count": 10,
   "id": "4b941c2e",
   "metadata": {},
   "outputs": [
    {
     "data": {
      "text/plain": [
       "Unnamed: 0    0\n",
       "TV            0\n",
       "Radio         0\n",
       "Newspaper     0\n",
       "Sales         0\n",
       "dtype: int64"
      ]
     },
     "execution_count": 10,
     "metadata": {},
     "output_type": "execute_result"
    }
   ],
   "source": [
    "df.isnull().sum()"
   ]
  },
  {
   "cell_type": "code",
   "execution_count": 12,
   "id": "1a190c1f",
   "metadata": {},
   "outputs": [
    {
     "data": {
      "image/png": "[encoded data removed]",
      "text/plain": [
       "<Figure size 500x500 with 3 Axes>"
      ]
     },
     "metadata": {},
     "output_type": "display_data"
    }
   ],
   "source": [
    "fig, axs = plt.subplots(3, figsize = (5,5))\n",
    "plt1 = sns.boxplot(df['TV'], ax = axs[0])\n",
    "plt2 = sns.boxplot(df['Newspaper'], ax = axs[1])\n",
    "plt3 = sns.boxplot(df['Radio'], ax = axs[2])\n",
    "plt.tight_layout()"
   ]
  },
  {
   "cell_type": "code",
   "execution_count": 13,
   "id": "4a090f90",
   "metadata": {},
   "outputs": [],
   "source": [
    "iqr = df.Newspaper.quantile(0.75) - df.Newspaper.quantile(0.25)"
   ]
  },
  {
   "cell_type": "code",
   "execution_count": 14,
   "id": "cec87c92",
   "metadata": {},
   "outputs": [
    {
     "name": "stdout",
     "output_type": "stream",
     "text": [
      "-35.775000000000006\n",
      "93.625\n"
     ]
    }
   ],
   "source": [
    "lower_bridge = df[\"Newspaper\"].quantile(0.25) - (iqr*1.5)\n",
    "upper_bridge = df[\"Newspaper\"].quantile(0.75) + (iqr*1.5)\n",
    "print(lower_bridge)\n",
    "print(upper_bridge)"
   ]
  },
  {
   "cell_type": "code",
   "execution_count": 15,
   "id": "e9defa60",
   "metadata": {},
   "outputs": [],
   "source": [
    "data = df.copy()"
   ]
  },
  {
   "cell_type": "code",
   "execution_count": 16,
   "id": "e6777ae0",
   "metadata": {},
   "outputs": [],
   "source": [
    "data.loc[data['Newspaper']>=93, 'Newspaper']=93"
   ]
  },
  {
   "cell_type": "code",
   "execution_count": 17,
   "id": "21e373b3",
   "metadata": {},
   "outputs": [
    {
     "data": {
      "text/plain": [
       "<Axes: >"
      ]
     },
     "execution_count": 17,
     "metadata": {},
     "output_type": "execute_result"
    },
    {
     "data": {
      "image/png": "[encoded data removed]",
      "text/plain": [
       "<Figure size 640x480 with 1 Axes>"
      ]
     },
     "metadata": {},
     "output_type": "display_data"
    }
   ],
   "source": [
    "sns.boxplot(data['Newspaper'])"
   ]
  },
  {
   "cell_type": "code",
   "execution_count": 18,
   "id": "5176cd8f",
   "metadata": {},
   "outputs": [
    {
     "data": {
      "image/png": "[encoded data removed]",
      "text/plain": [
       "<Figure size 640x480 with 1 Axes>"
      ]
     },
     "metadata": {},
     "output_type": "display_data"
    }
   ],
   "source": [
    "sns.boxplot(data['Sales']);"
   ]
  },
  {
   "cell_type": "code",
   "execution_count": 19,
   "id": "a99dc790",
   "metadata": {},
   "outputs": [
    {
     "data": {
      "text/plain": [
       "<Axes: xlabel='Newspaper', ylabel='Density'>"
      ]
     },
     "execution_count": 19,
     "metadata": {},
     "output_type": "execute_result"
    },
    {
     "data": {
      "image/png": "[encoded data removed]",
      "text/plain": [
       "<Figure size 640x480 with 1 Axes>"
      ]
     },
     "metadata": {},
     "output_type": "display_data"
    }
   ],
   "source": [
    "sns.distplot(df['Newspaper'])"
   ]
  },
  {
   "cell_type": "code",
   "execution_count": 20,
   "id": "bdeb69ec",
   "metadata": {},
   "outputs": [
    {
     "data": {
      "text/plain": [
       "<Axes: xlabel='Sales', ylabel='Density'>"
      ]
     },
     "execution_count": 20,
     "metadata": {},
     "output_type": "execute_result"
    },
    {
     "data": {
      "image/png": "[encoded data removed]",
      "text/plain": [
       "<Figure size 640x480 with 1 Axes>"
      ]
     },
     "metadata": {},
     "output_type": "display_data"
    }
   ],
   "source": [
    "sns.distplot(df['Sales'])"
   ]
  },
  {
   "cell_type": "code",
   "execution_count": 21,
   "id": "736bc9bb",
   "metadata": {},
   "outputs": [
    {
     "data": {
      "text/plain": [
       "<Axes: xlabel='TV', ylabel='Density'>"
      ]
     },
     "execution_count": 21,
     "metadata": {},
     "output_type": "execute_result"
    },
    {
     "data": {
      "image/png": "[encoded data removed]",
      "text/plain": [
       "<Figure size 640x480 with 1 Axes>"
      ]
     },
     "metadata": {},
     "output_type": "display_data"
    }
   ],
   "source": [
    "sns.distplot(df['TV'])"
   ]
  },
  {
   "cell_type": "code",
   "execution_count": 22,
   "id": "b165ca57",
   "metadata": {},
   "outputs": [
    {
     "data": {
      "text/plain": [
       "<Axes: xlabel='Radio', ylabel='Density'>"
      ]
     },
     "execution_count": 22,
     "metadata": {},
     "output_type": "execute_result"
    },
    {
     "data": {
      "image/png": "[encoded data removed]",
      "text/plain": [
       "<Figure size 640x480 with 1 Axes>"
      ]
     },
     "metadata": {},
     "output_type": "display_data"
    }
   ],
   "source": [
    "sns.distplot(df['Radio'])"
   ]
  },
  {
   "cell_type": "code",
   "execution_count": 23,
   "id": "40bede91",
   "metadata": {},
   "outputs": [
    {
     "data": {
      "image/png": "[encoded data removed]",
      "text/plain": [
       "<Figure size 1200x400 with 3 Axes>"
      ]
     },
     "metadata": {},
     "output_type": "display_data"
    }
   ],
   "source": [
    "sns.pairplot(data, x_vars=['TV', 'Newspaper', 'Radio'],\n",
    "            y_vars='Sales', height=4, aspect=1, kind='scatter')\n",
    "plt.show()"
   ]
  },
  {
   "cell_type": "code",
   "execution_count": 24,
   "id": "37c96e36",
   "metadata": {},
   "outputs": [
    {
     "data": {
      "image/png": "[encoded data removed]",
      "text/plain": [
       "<Figure size 640x480 with 2 Axes>"
      ]
     },
     "metadata": {},
     "output_type": "display_data"
    }
   ],
   "source": [
    "sns.heatmap(data.corr(), cmap=\"YlGnBu\", annot = True)\n",
    "plt.show()"
   ]
  },
  {
   "cell_type": "code",
   "execution_count": 31,
   "id": "9e343208",
   "metadata": {},
   "outputs": [
    {
     "data": {
      "application/vnd.plotly.v1+json": {
       "config": {
        "plotlyServerURL": "https://plot.ly"
       },
       "data": [
        {
         "branchvalues": "total",
         "domain": {
          "x": [
           0,
           1
          ],
          "y": [
           0,
           1
          ]
         },
         "hovertemplate": "labels=%{label}<br>Sales=%{value}<br>parent=%{parent}<br>id=%{id}<extra></extra>",
         "ids": [
          "9.2/80.2/0.0",
          "23.2/90.4/0.3",
          "25.6/13.1/0.4",
          "14.8/76.4/0.8",
          "24.3/149.8/1.3",
          "7.4/95.7/1.4",
          "33.0/28.6/1.5",
          "30.0/97.2/1.5",
          "20.7/27.5/1.6",
          "9.0/140.3/1.9",
          "21.4/53.5/2.0",
          "1.0/8.6/2.1",
          "26.6/139.5/2.1",
          "23.7/276.7/2.3",
          "15.6/224.0/2.4",
          "8.3/156.6/2.6",
          "21.2/199.8/2.6",
          "43.0/265.2/2.9",
          "34.6/199.8/3.1",
          "13.1/222.4/3.4",
          "84.8/234.5/3.4",
          "5.9/197.6/3.5",
          "19.5/262.9/3.5",
          "13.8/38.2/3.7",
          "31.6/17.2/4.1",
          "36.9/239.8/4.1",
          "8.5/290.7/4.1",
          "49.8/222.4/4.3",
          "8.1/94.2/4.9",
          "9.3/134.3/4.9",
          "23.5/237.4/5.1",
          "19.4/206.8/5.2",
          "27.4/218.5/5.4",
          "29.7/56.2/5.7",
          "34.4/104.6/5.7",
          "31.3/129.4/5.7",
          "24.2/66.1/5.8",
          "12.8/168.4/7.1",
          "8.7/240.1/7.3",
          "7.2/97.5/7.6",
          "23.1/116.0/7.7",
          "35.2/170.2/7.8",
          "56.5/225.8/8.2",
          "48.7/121.0/8.4",
          "26.4/206.9/8.4",
          "8.7/232.1/8.6",
          "0.9/69.0/9.3",
          "6.4/177.0/9.3",
          "3.6/100.4/9.6",
          "35.7/89.7/9.9",
          "17.6/165.6/10.0",
          "21.4/280.2/10.1",
          "6.4/284.3/10.6",
          "6.0/75.5/10.8",
          "58.4/180.8/10.8",
          "29.7/25.0/11.0",
          "5.7/4.1/11.6",
          "18.4/50.0/11.6",
          "36.8/66.9/11.7",
          "25.9/87.2/11.8",
          "43.1/59.6/12.0",
          "23.4/18.7/12.1",
          "18.3/62.3/12.6",
          "37.0/280.7/13.9",
          "3.7/286.0/13.9",
          "10.9/107.4/14.0",
          "31.7/109.8/14.3",
          "25.6/139.2/14.3",
          "10.2/139.3/14.5",
          "5.4/117.2/14.7",
          "38.9/96.2/14.8",
          "2.4/175.7/15.4",
          "27.3/239.3/15.5",
          "49.9/227.2/15.8",
          "49.6/13.2/15.9",
          "22.3/19.4/16.0",
          "40.8/70.6/16.0",
          "22.9/240.1/16.7",
          "26.2/228.3/16.9",
          "12.9/73.4/17.0",
          "17.9/187.9/17.2",
          "38.6/112.9/17.4",
          "30.7/172.5/18.1",
          "25.6/188.4/18.1",
          "34.6/131.7/18.4",
          "65.7/193.2/18.4",
          "16.6/136.2/19.2",
          "11.6/120.2/19.6",
          "0.3/265.6/20.0",
          "17.0/19.6/20.1",
          "32.5/75.3/20.3",
          "18.3/69.2/20.5",
          "10.7/209.6/20.6",
          "47.4/164.5/20.9",
          "22.0/184.9/21.0",
          "9.5/187.8/21.1",
          "30.0/253.8/21.3",
          "50.4/18.8/21.7",
          "31.6/202.5/22.3",
          "31.5/175.1/22.5",
          "14.2/197.6/23.3",
          "57.6/215.4/23.6",
          "19.1/147.3/23.9",
          "4.0/214.7/24.0",
          "2.2/31.5/24.6",
          "13.1/213.4/24.6",
          "73.4/88.3/25.5",
          "43.3/25.1/25.7",
          "20.6/44.7/25.8",
          "20.5/43.0/25.9",
          "35.1/43.1/26.7",
          "22.3/76.4/26.7",
          "46.2/141.3/26.8",
          "5.5/255.4/26.9",
          "22.9/248.8/27.1",
          "2.1/8.4/27.2",
          "16.0/76.3/27.5",
          "11.0/237.4/27.5",
          "53.4/218.4/27.7",
          "1.8/293.6/27.7",
          "41.4/7.3/28.1",
          "43.2/292.9/28.3",
          "14.2/120.5/28.5",
          "18.2/191.1/28.7",
          "15.9/262.7/28.8",
          "59.7/273.7/28.9",
          "12.6/142.9/29.3",
          "9.3/210.7/29.5",
          "8.4/102.7/29.6",
          "9.4/5.4/29.9",
          "20.3/248.4/30.2",
          "38.7/199.1/30.6",
          "52.9/163.3/31.6",
          "74.2/229.5/32.3",
          "23.5/57.5/32.8",
          "46.0/204.1/32.9",
          "19.3/26.8/33.0",
          "37.9/220.5/33.2",
          "38.7/177.0/33.4",
          "59.0/217.7/33.5",
          "45.1/219.8/33.5",
          "5.3/238.2/34.3",
          "12.4/123.1/34.6",
          "52.7/75.1/35.0",
          "65.9/23.8/35.1",
          "75.6/193.7/35.4",
          "6.0/149.7/35.6",
          "49.3/85.7/35.8",
          "100.9/296.4/36.3",
          "72.3/250.9/36.5",
          "114.0/67.8/36.6",
          "7.4/163.5/36.8",
          "45.2/11.7/36.9",
          "79.2/125.7/36.9",
          "21.6/17.9/37.6",
          "32.0/228.0/37.7",
          "69.2/230.1/37.8",
          "23.2/241.7/38.0",
          "65.6/36.9/38.6",
          "50.6/7.8/38.9",
          "9.3/25.6/39.0",
          "45.1/44.5/39.3",
          "8.7/0.7/39.6",
          "55.8/281.4/39.6",
          "37.7/171.3/39.7",
          "11.9/38.0/40.3",
          "63.2/110.7/40.6",
          "5.8/39.5/41.1",
          "58.5/151.5/41.3",
          "18.5/239.9/41.5",
          "45.9/135.2/41.7",
          "39.6/216.4/41.7",
          "3.6/166.8/42.0",
          "66.2/283.6/42.0",
          "51.2/289.7/42.3",
          "54.7/261.3/42.7",
          "28.9/131.1/42.8",
          "33.8/213.5/43.0",
          "71.8/287.6/43.0",
          "50.5/93.9/43.5",
          "89.4/16.9/43.7",
          "5.0/266.9/43.8",
          "1.7/184.9/43.9",
          "27.2/216.8/43.9",
          "35.6/68.4/44.5",
          "19.6/205.0/45.1",
          "69.3/17.2/45.9",
          "58.7/182.6/46.2",
          "59.0/137.9/46.4",
          "34.5/78.2/46.8",
          "8.5/48.3/47.0",
          "52.9/195.4/47.7",
          "51.4/109.8/47.8",
          "75.0/8.7/48.9",
          "41.8/276.9/48.9",
          "3.2/220.3/49.0",
          "44.3/243.2/49.0",
          "45.7/74.7/49.4",
          "60.0/198.9/49.4",
          "37.7/210.8/49.6",
          "8.7/0.7",
          "5.7/4.1",
          "9.4/5.4",
          "41.4/7.3",
          "50.6/7.8",
          "2.1/8.4",
          "1.0/8.6",
          "75.0/8.7",
          "45.2/11.7",
          "25.6/13.1",
          "49.6/13.2",
          "89.4/16.9",
          "31.6/17.2",
          "69.3/17.2",
          "21.6/17.9",
          "23.4/18.7",
          "50.4/18.8",
          "22.3/19.4",
          "17.0/19.6",
          "65.9/23.8",
          "29.7/25.0",
          "43.3/25.1",
          "9.3/25.6",
          "19.3/26.8",
          "20.7/27.5",
          "33.0/28.6",
          "2.2/31.5",
          "65.6/36.9",
          "11.9/38.0",
          "13.8/38.2",
          "5.8/39.5",
          "20.5/43.0",
          "35.1/43.1",
          "45.1/44.5",
          "20.6/44.7",
          "8.5/48.3",
          "18.4/50.0",
          "21.4/53.5",
          "29.7/56.2",
          "23.5/57.5",
          "43.1/59.6",
          "18.3/62.3",
          "24.2/66.1",
          "36.8/66.9",
          "114.0/67.8",
          "35.6/68.4",
          "0.9/69.0",
          "18.3/69.2",
          "40.8/70.6",
          "12.9/73.4",
          "45.7/74.7",
          "52.7/75.1",
          "32.5/75.3",
          "6.0/75.5",
          "16.0/76.3",
          "14.8/76.4",
          "22.3/76.4",
          "34.5/78.2",
          "9.2/80.2",
          "49.3/85.7",
          "25.9/87.2",
          "73.4/88.3",
          "35.7/89.7",
          "23.2/90.4",
          "50.5/93.9",
          "8.1/94.2",
          "7.4/95.7",
          "38.9/96.2",
          "30.0/97.2",
          "7.2/97.5",
          "3.6/100.4",
          "8.4/102.7",
          "34.4/104.6",
          "10.9/107.4",
          "31.7/109.8",
          "51.4/109.8",
          "63.2/110.7",
          "38.6/112.9",
          "23.1/116.0",
          "5.4/117.2",
          "11.6/120.2",
          "14.2/120.5",
          "48.7/121.0",
          "12.4/123.1",
          "79.2/125.7",
          "31.3/129.4",
          "28.9/131.1",
          "34.6/131.7",
          "9.3/134.3",
          "45.9/135.2",
          "16.6/136.2",
          "59.0/137.9",
          "25.6/139.2",
          "10.2/139.3",
          "26.6/139.5",
          "9.0/140.3",
          "46.2/141.3",
          "12.6/142.9",
          "19.1/147.3",
          "6.0/149.7",
          "24.3/149.8",
          "58.5/151.5",
          "8.3/156.6",
          "52.9/163.3",
          "7.4/163.5",
          "47.4/164.5",
          "17.6/165.6",
          "3.6/166.8",
          "12.8/168.4",
          "35.2/170.2",
          "37.7/171.3",
          "30.7/172.5",
          "31.5/175.1",
          "2.4/175.7",
          "6.4/177.0",
          "38.7/177.0",
          "58.4/180.8",
          "58.7/182.6",
          "1.7/184.9",
          "22.0/184.9",
          "9.5/187.8",
          "17.9/187.9",
          "25.6/188.4",
          "18.2/191.1",
          "65.7/193.2",
          "75.6/193.7",
          "52.9/195.4",
          "5.9/197.6",
          "14.2/197.6",
          "60.0/198.9",
          "38.7/199.1",
          "21.2/199.8",
          "34.6/199.8",
          "31.6/202.5",
          "46.0/204.1",
          "19.6/205.0",
          "19.4/206.8",
          "26.4/206.9",
          "10.7/209.6",
          "9.3/210.7",
          "37.7/210.8",
          "13.1/213.4",
          "33.8/213.5",
          "4.0/214.7",
          "57.6/215.4",
          "39.6/216.4",
          "27.2/216.8",
          "59.0/217.7",
          "53.4/218.4",
          "27.4/218.5",
          "45.1/219.8",
          "3.2/220.3",
          "37.9/220.5",
          "13.1/222.4",
          "49.8/222.4",
          "15.6/224.0",
          "56.5/225.8",
          "49.9/227.2",
          "32.0/228.0",
          "26.2/228.3",
          "74.2/229.5",
          "69.2/230.1",
          "8.7/232.1",
          "84.8/234.5",
          "11.0/237.4",
          "23.5/237.4",
          "5.3/238.2",
          "27.3/239.3",
          "36.9/239.8",
          "18.5/239.9",
          "8.7/240.1",
          "22.9/240.1",
          "23.2/241.7",
          "44.3/243.2",
          "20.3/248.4",
          "22.9/248.8",
          "72.3/250.9",
          "30.0/253.8",
          "5.5/255.4",
          "54.7/261.3",
          "15.9/262.7",
          "19.5/262.9",
          "43.0/265.2",
          "0.3/265.6",
          "5.0/266.9",
          "59.7/273.7",
          "23.7/276.7",
          "41.8/276.9",
          "21.4/280.2",
          "37.0/280.7",
          "55.8/281.4",
          "66.2/283.6",
          "6.4/284.3",
          "3.7/286.0",
          "71.8/287.6",
          "51.2/289.7",
          "8.5/290.7",
          "43.2/292.9",
          "1.8/293.6",
          "100.9/296.4",
          "0.3",
          "0.9",
          "1.0",
          "1.7",
          "1.8",
          "2.1",
          "2.2",
          "2.4",
          "3.2",
          "3.6",
          "3.7",
          "4.0",
          "5.0",
          "5.3",
          "5.4",
          "5.5",
          "5.7",
          "5.8",
          "5.9",
          "6.0",
          "6.4",
          "7.2",
          "7.4",
          "8.1",
          "8.3",
          "8.4",
          "8.5",
          "8.7",
          "9.0",
          "9.2",
          "9.3",
          "9.4",
          "9.5",
          "10.2",
          "10.7",
          "10.9",
          "11.0",
          "11.6",
          "11.9",
          "12.4",
          "12.6",
          "12.8",
          "12.9",
          "13.1",
          "13.8",
          "14.2",
          "14.8",
          "15.6",
          "15.9",
          "16.0",
          "16.6",
          "17.0",
          "17.6",
          "17.9",
          "18.2",
          "18.3",
          "18.4",
          "18.5",
          "19.1",
          "19.3",
          "19.4",
          "19.5",
          "19.6",
          "20.3",
          "20.5",
          "20.6",
          "20.7",
          "21.2",
          "21.4",
          "21.6",
          "22.0",
          "22.3",
          "22.9",
          "23.1",
          "23.2",
          "23.4",
          "23.5",
          "23.7",
          "24.2",
          "24.3",
          "25.6",
          "25.9",
          "26.2",
          "26.4",
          "26.6",
          "27.2",
          "27.3",
          "27.4",
          "28.9",
          "29.7",
          "30.0",
          "30.7",
          "31.3",
          "31.5",
          "31.6",
          "31.7",
          "32.0",
          "32.5",
          "33.0",
          "33.8",
          "34.4",
          "34.5",
          "34.6",
          "35.1",
          "35.2",
          "35.6",
          "35.7",
          "36.8",
          "36.9",
          "37.0",
          "37.7",
          "37.9",
          "38.6",
          "38.7",
          "38.9",
          "39.6",
          "40.8",
          "41.4",
          "41.8",
          "43.0",
          "43.1",
          "43.2",
          "43.3",
          "44.3",
          "45.1",
          "45.2",
          "45.7",
          "45.9",
          "46.0",
          "46.2",
          "47.4",
          "48.7",
          "49.3",
          "49.6",
          "49.8",
          "49.9",
          "50.4",
          "50.5",
          "50.6",
          "51.2",
          "51.4",
          "52.7",
          "52.9",
          "53.4",
          "54.7",
          "55.8",
          "56.5",
          "57.6",
          "58.4",
          "58.5",
          "58.7",
          "59.0",
          "59.7",
          "60.0",
          "63.2",
          "65.6",
          "65.7",
          "65.9",
          "66.2",
          "69.2",
          "69.3",
          "71.8",
          "72.3",
          "73.4",
          "74.2",
          "75.0",
          "75.6",
          "79.2",
          "84.8",
          "89.4",
          "100.9",
          "114.0"
         ],
         "labels": [
          "0.0",
          "0.3",
          "0.4",
          "0.8",
          "1.3",
          "1.4",
          "1.5",
          "1.5",
          "1.6",
          "1.9",
          "2.0",
          "2.1",
          "2.1",
          "2.3",
          "2.4",
          "2.6",
          "2.6",
          "2.9",
          "3.1",
          "3.4",
          "3.4",
          "3.5",
          "3.5",
          "3.7",
          "4.1",
          "4.1",
          "4.1",
          "4.3",
          "4.9",
          "4.9",
          "5.1",
          "5.2",
          "5.4",
          "5.7",
          "5.7",
          "5.7",
          "5.8",
          "7.1",
          "7.3",
          "7.6",
          "7.7",
          "7.8",
          "8.2",
          "8.4",
          "8.4",
          "8.6",
          "9.3",
          "9.3",
          "9.6",
          "9.9",
          "10.0",
          "10.1",
          "10.6",
          "10.8",
          "10.8",
          "11.0",
          "11.6",
          "11.6",
          "11.7",
          "11.8",
          "12.0",
          "12.1",
          "12.6",
          "13.9",
          "13.9",
          "14.0",
          "14.3",
          "14.3",
          "14.5",
          "14.7",
          "14.8",
          "15.4",
          "15.5",
          "15.8",
          "15.9",
          "16.0",
          "16.0",
          "16.7",
          "16.9",
          "17.0",
          "17.2",
          "17.4",
          "18.1",
          "18.1",
          "18.4",
          "18.4",
          "19.2",
          "19.6",
          "20.0",
          "20.1",
          "20.3",
          "20.5",
          "20.6",
          "20.9",
          "21.0",
          "21.1",
          "21.3",
          "21.7",
          "22.3",
          "22.5",
          "23.3",
          "23.6",
          "23.9",
          "24.0",
          "24.6",
          "24.6",
          "25.5",
          "25.7",
          "25.8",
          "25.9",
          "26.7",
          "26.7",
          "26.8",
          "26.9",
          "27.1",
          "27.2",
          "27.5",
          "27.5",
          "27.7",
          "27.7",
          "28.1",
          "28.3",
          "28.5",
          "28.7",
          "28.8",
          "28.9",
          "29.3",
          "29.5",
          "29.6",
          "29.9",
          "30.2",
          "30.6",
          "31.6",
          "32.3",
          "32.8",
          "32.9",
          "33.0",
          "33.2",
          "33.4",
          "33.5",
          "33.5",
          "34.3",
          "34.6",
          "35.0",
          "35.1",
          "35.4",
          "35.6",
          "35.8",
          "36.3",
          "36.5",
          "36.6",
          "36.8",
          "36.9",
          "36.9",
          "37.6",
          "37.7",
          "37.8",
          "38.0",
          "38.6",
          "38.9",
          "39.0",
          "39.3",
          "39.6",
          "39.6",
          "39.7",
          "40.3",
          "40.6",
          "41.1",
          "41.3",
          "41.5",
          "41.7",
          "41.7",
          "42.0",
          "42.0",
          "42.3",
          "42.7",
          "42.8",
          "43.0",
          "43.0",
          "43.5",
          "43.7",
          "43.8",
          "43.9",
          "43.9",
          "44.5",
          "45.1",
          "45.9",
          "46.2",
          "46.4",
          "46.8",
          "47.0",
          "47.7",
          "47.8",
          "48.9",
          "48.9",
          "49.0",
          "49.0",
          "49.4",
          "49.4",
          "49.6",
          "0.7",
          "4.1",
          "5.4",
          "7.3",
          "7.8",
          "8.4",
          "8.6",
          "8.7",
          "11.7",
          "13.1",
          "13.2",
          "16.9",
          "17.2",
          "17.2",
          "17.9",
          "18.7",
          "18.8",
          "19.4",
          "19.6",
          "23.8",
          "25.0",
          "25.1",
          "25.6",
          "26.8",
          "27.5",
          "28.6",
          "31.5",
          "36.9",
          "38.0",
          "38.2",
          "39.5",
          "43.0",
          "43.1",
          "44.5",
          "44.7",
          "48.3",
          "50.0",
          "53.5",
          "56.2",
          "57.5",
          "59.6",
          "62.3",
          "66.1",
          "66.9",
          "67.8",
          "68.4",
          "69.0",
          "69.2",
          "70.6",
          "73.4",
          "74.7",
          "75.1",
          "75.3",
          "75.5",
          "76.3",
          "76.4",
          "76.4",
          "78.2",
          "80.2",
          "85.7",
          "87.2",
          "88.3",
          "89.7",
          "90.4",
          "93.9",
          "94.2",
          "95.7",
          "96.2",
          "97.2",
          "97.5",
          "100.4",
          "102.7",
          "104.6",
          "107.4",
          "109.8",
          "109.8",
          "110.7",
          "112.9",
          "116.0",
          "117.2",
          "120.2",
          "120.5",
          "121.0",
          "123.1",
          "125.7",
          "129.4",
          "131.1",
          "131.7",
          "134.3",
          "135.2",
          "136.2",
          "137.9",
          "139.2",
          "139.3",
          "139.5",
          "140.3",
          "141.3",
          "142.9",
          "147.3",
          "149.7",
          "149.8",
          "151.5",
          "156.6",
          "163.3",
          "163.5",
          "164.5",
          "165.6",
          "166.8",
          "168.4",
          "170.2",
          "171.3",
          "172.5",
          "175.1",
          "175.7",
          "177.0",
          "177.0",
          "180.8",
          "182.6",
          "184.9",
          "184.9",
          "187.8",
          "187.9",
          "188.4",
          "191.1",
          "193.2",
          "193.7",
          "195.4",
          "197.6",
          "197.6",
          "198.9",
          "199.1",
          "199.8",
          "199.8",
          "202.5",
          "204.1",
          "205.0",
          "206.8",
          "206.9",
          "209.6",
          "210.7",
          "210.8",
          "213.4",
          "213.5",
          "214.7",
          "215.4",
          "216.4",
          "216.8",
          "217.7",
          "218.4",
          "218.5",
          "219.8",
          "220.3",
          "220.5",
          "222.4",
          "222.4",
          "224.0",
          "225.8",
          "227.2",
          "228.0",
          "228.3",
          "229.5",
          "230.1",
          "232.1",
          "234.5",
          "237.4",
          "237.4",
          "238.2",
          "239.3",
          "239.8",
          "239.9",
          "240.1",
          "240.1",
          "241.7",
          "243.2",
          "248.4",
          "248.8",
          "250.9",
          "253.8",
          "255.4",
          "261.3",
          "262.7",
          "262.9",
          "265.2",
          "265.6",
          "266.9",
          "273.7",
          "276.7",
          "276.9",
          "280.2",
          "280.7",
          "281.4",
          "283.6",
          "284.3",
          "286.0",
          "287.6",
          "289.7",
          "290.7",
          "292.9",
          "293.6",
          "296.4",
          "0.3",
          "0.9",
          "1.0",
          "1.7",
          "1.8",
          "2.1",
          "2.2",
          "2.4",
          "3.2",
          "3.6",
          "3.7",
          "4.0",
          "5.0",
          "5.3",
          "5.4",
          "5.5",
          "5.7",
          "5.8",
          "5.9",
          "6.0",
          "6.4",
          "7.2",
          "7.4",
          "8.1",
          "8.3",
          "8.4",
          "8.5",
          "8.7",
          "9.0",
          "9.2",
          "9.3",
          "9.4",
          "9.5",
          "10.2",
          "10.7",
          "10.9",
          "11.0",
          "11.6",
          "11.9",
          "12.4",
          "12.6",
          "12.8",
          "12.9",
          "13.1",
          "13.8",
          "14.2",
          "14.8",
          "15.6",
          "15.9",
          "16.0",
          "16.6",
          "17.0",
          "17.6",
          "17.9",
          "18.2",
          "18.3",
          "18.4",
          "18.5",
          "19.1",
          "19.3",
          "19.4",
          "19.5",
          "19.6",
          "20.3",
          "20.5",
          "20.6",
          "20.7",
          "21.2",
          "21.4",
          "21.6",
          "22.0",
          "22.3",
          "22.9",
          "23.1",
          "23.2",
          "23.4",
          "23.5",
          "23.7",
          "24.2",
          "24.3",
          "25.6",
          "25.9",
          "26.2",
          "26.4",
          "26.6",
          "27.2",
          "27.3",
          "27.4",
          "28.9",
          "29.7",
          "30.0",
          "30.7",
          "31.3",
          "31.5",
          "31.6",
          "31.7",
          "32.0",
          "32.5",
          "33.0",
          "33.8",
          "34.4",
          "34.5",
          "34.6",
          "35.1",
          "35.2",
          "35.6",
          "35.7",
          "36.8",
          "36.9",
          "37.0",
          "37.7",
          "37.9",
          "38.6",
          "38.7",
          "38.9",
          "39.6",
          "40.8",
          "41.4",
          "41.8",
          "43.0",
          "43.1",
          "43.2",
          "43.3",
          "44.3",
          "45.1",
          "45.2",
          "45.7",
          "45.9",
          "46.0",
          "46.2",
          "47.4",
          "48.7",
          "49.3",
          "49.6",
          "49.8",
          "49.9",
          "50.4",
          "50.5",
          "50.6",
          "51.2",
          "51.4",
          "52.7",
          "52.9",
          "53.4",
          "54.7",
          "55.8",
          "56.5",
          "57.6",
          "58.4",
          "58.5",
          "58.7",
          "59.0",
          "59.7",
          "60.0",
          "63.2",
          "65.6",
          "65.7",
          "65.9",
          "66.2",
          "69.2",
          "69.3",
          "71.8",
          "72.3",
          "73.4",
          "74.2",
          "75.0",
          "75.6",
          "79.2",
          "84.8",
          "89.4",
          "100.9",
          "114.0"
         ],
         "name": "",
         "parents": [
          "9.2/80.2",
          "23.2/90.4",
          "25.6/13.1",
          "14.8/76.4",
          "24.3/149.8",
          "7.4/95.7",
          "33.0/28.6",
          "30.0/97.2",
          "20.7/27.5",
          "9.0/140.3",
          "21.4/53.5",
          "1.0/8.6",
          "26.6/139.5",
          "23.7/276.7",
          "15.6/224.0",
          "8.3/156.6",
          "21.2/199.8",
          "43.0/265.2",
          "34.6/199.8",
          "13.1/222.4",
          "84.8/234.5",
          "5.9/197.6",
          "19.5/262.9",
          "13.8/38.2",
          "31.6/17.2",
          "36.9/239.8",
          "8.5/290.7",
          "49.8/222.4",
          "8.1/94.2",
          "9.3/134.3",
          "23.5/237.4",
          "19.4/206.8",
          "27.4/218.5",
          "29.7/56.2",
          "34.4/104.6",
          "31.3/129.4",
          "24.2/66.1",
          "12.8/168.4",
          "8.7/240.1",
          "7.2/97.5",
          "23.1/116.0",
          "35.2/170.2",
          "56.5/225.8",
          "48.7/121.0",
          "26.4/206.9",
          "8.7/232.1",
          "0.9/69.0",
          "6.4/177.0",
          "3.6/100.4",
          "35.7/89.7",
          "17.6/165.6",
          "21.4/280.2",
          "6.4/284.3",
          "6.0/75.5",
          "58.4/180.8",
          "29.7/25.0",
          "5.7/4.1",
          "18.4/50.0",
          "36.8/66.9",
          "25.9/87.2",
          "43.1/59.6",
          "23.4/18.7",
          "18.3/62.3",
          "37.0/280.7",
          "3.7/286.0",
          "10.9/107.4",
          "31.7/109.8",
          "25.6/139.2",
          "10.2/139.3",
          "5.4/117.2",
          "38.9/96.2",
          "2.4/175.7",
          "27.3/239.3",
          "49.9/227.2",
          "49.6/13.2",
          "22.3/19.4",
          "40.8/70.6",
          "22.9/240.1",
          "26.2/228.3",
          "12.9/73.4",
          "17.9/187.9",
          "38.6/112.9",
          "30.7/172.5",
          "25.6/188.4",
          "34.6/131.7",
          "65.7/193.2",
          "16.6/136.2",
          "11.6/120.2",
          "0.3/265.6",
          "17.0/19.6",
          "32.5/75.3",
          "18.3/69.2",
          "10.7/209.6",
          "47.4/164.5",
          "22.0/184.9",
          "9.5/187.8",
          "30.0/253.8",
          "50.4/18.8",
          "31.6/202.5",
          "31.5/175.1",
          "14.2/197.6",
          "57.6/215.4",
          "19.1/147.3",
          "4.0/214.7",
          "2.2/31.5",
          "13.1/213.4",
          "73.4/88.3",
          "43.3/25.1",
          "20.6/44.7",
          "20.5/43.0",
          "35.1/43.1",
          "22.3/76.4",
          "46.2/141.3",
          "5.5/255.4",
          "22.9/248.8",
          "2.1/8.4",
          "16.0/76.3",
          "11.0/237.4",
          "53.4/218.4",
          "1.8/293.6",
          "41.4/7.3",
          "43.2/292.9",
          "14.2/120.5",
          "18.2/191.1",
          "15.9/262.7",
          "59.7/273.7",
          "12.6/142.9",
          "9.3/210.7",
          "8.4/102.7",
          "9.4/5.4",
          "20.3/248.4",
          "38.7/199.1",
          "52.9/163.3",
          "74.2/229.5",
          "23.5/57.5",
          "46.0/204.1",
          "19.3/26.8",
          "37.9/220.5",
          "38.7/177.0",
          "59.0/217.7",
          "45.1/219.8",
          "5.3/238.2",
          "12.4/123.1",
          "52.7/75.1",
          "65.9/23.8",
          "75.6/193.7",
          "6.0/149.7",
          "49.3/85.7",
          "100.9/296.4",
          "72.3/250.9",
          "114.0/67.8",
          "7.4/163.5",
          "45.2/11.7",
          "79.2/125.7",
          "21.6/17.9",
          "32.0/228.0",
          "69.2/230.1",
          "23.2/241.7",
          "65.6/36.9",
          "50.6/7.8",
          "9.3/25.6",
          "45.1/44.5",
          "8.7/0.7",
          "55.8/281.4",
          "37.7/171.3",
          "11.9/38.0",
          "63.2/110.7",
          "5.8/39.5",
          "58.5/151.5",
          "18.5/239.9",
          "45.9/135.2",
          "39.6/216.4",
          "3.6/166.8",
          "66.2/283.6",
          "51.2/289.7",
          "54.7/261.3",
          "28.9/131.1",
          "33.8/213.5",
          "71.8/287.6",
          "50.5/93.9",
          "89.4/16.9",
          "5.0/266.9",
          "1.7/184.9",
          "27.2/216.8",
          "35.6/68.4",
          "19.6/205.0",
          "69.3/17.2",
          "58.7/182.6",
          "59.0/137.9",
          "34.5/78.2",
          "8.5/48.3",
          "52.9/195.4",
          "51.4/109.8",
          "75.0/8.7",
          "41.8/276.9",
          "3.2/220.3",
          "44.3/243.2",
          "45.7/74.7",
          "60.0/198.9",
          "37.7/210.8",
          "8.7",
          "5.7",
          "9.4",
          "41.4",
          "50.6",
          "2.1",
          "1.0",
          "75.0",
          "45.2",
          "25.6",
          "49.6",
          "89.4",
          "31.6",
          "69.3",
          "21.6",
          "23.4",
          "50.4",
          "22.3",
          "17.0",
          "65.9",
          "29.7",
          "43.3",
          "9.3",
          "19.3",
          "20.7",
          "33.0",
          "2.2",
          "65.6",
          "11.9",
          "13.8",
          "5.8",
          "20.5",
          "35.1",
          "45.1",
          "20.6",
          "8.5",
          "18.4",
          "21.4",
          "29.7",
          "23.5",
          "43.1",
          "18.3",
          "24.2",
          "36.8",
          "114.0",
          "35.6",
          "0.9",
          "18.3",
          "40.8",
          "12.9",
          "45.7",
          "52.7",
          "32.5",
          "6.0",
          "16.0",
          "14.8",
          "22.3",
          "34.5",
          "9.2",
          "49.3",
          "25.9",
          "73.4",
          "35.7",
          "23.2",
          "50.5",
          "8.1",
          "7.4",
          "38.9",
          "30.0",
          "7.2",
          "3.6",
          "8.4",
          "34.4",
          "10.9",
          "31.7",
          "51.4",
          "63.2",
          "38.6",
          "23.1",
          "5.4",
          "11.6",
          "14.2",
          "48.7",
          "12.4",
          "79.2",
          "31.3",
          "28.9",
          "34.6",
          "9.3",
          "45.9",
          "16.6",
          "59.0",
          "25.6",
          "10.2",
          "26.6",
          "9.0",
          "46.2",
          "12.6",
          "19.1",
          "6.0",
          "24.3",
          "58.5",
          "8.3",
          "52.9",
          "7.4",
          "47.4",
          "17.6",
          "3.6",
          "12.8",
          "35.2",
          "37.7",
          "30.7",
          "31.5",
          "2.4",
          "6.4",
          "38.7",
          "58.4",
          "58.7",
          "1.7",
          "22.0",
          "9.5",
          "17.9",
          "25.6",
          "18.2",
          "65.7",
          "75.6",
          "52.9",
          "5.9",
          "14.2",
          "60.0",
          "38.7",
          "21.2",
          "34.6",
          "31.6",
          "46.0",
          "19.6",
          "19.4",
          "26.4",
          "10.7",
          "9.3",
          "37.7",
          "13.1",
          "33.8",
          "4.0",
          "57.6",
          "39.6",
          "27.2",
          "59.0",
          "53.4",
          "27.4",
          "45.1",
          "3.2",
          "37.9",
          "13.1",
          "49.8",
          "15.6",
          "56.5",
          "49.9",
          "32.0",
          "26.2",
          "74.2",
          "69.2",
          "8.7",
          "84.8",
          "11.0",
          "23.5",
          "5.3",
          "27.3",
          "36.9",
          "18.5",
          "8.7",
          "22.9",
          "23.2",
          "44.3",
          "20.3",
          "22.9",
          "72.3",
          "30.0",
          "5.5",
          "54.7",
          "15.9",
          "19.5",
          "43.0",
          "0.3",
          "5.0",
          "59.7",
          "23.7",
          "41.8",
          "21.4",
          "37.0",
          "55.8",
          "66.2",
          "6.4",
          "3.7",
          "71.8",
          "51.2",
          "8.5",
          "43.2",
          "1.8",
          "100.9",
          "",
          "",
          "",
          "",
          "",
          "",
          "",
          "",
          "",
          "",
          "",
          "",
          "",
          "",
          "",
          "",
          "",
          "",
          "",
          "",
          "",
          "",
          "",
          "",
          "",
          "",
          "",
          "",
          "",
          "",
          "",
          "",
          "",
          "",
          "",
          "",
          "",
          "",
          "",
          "",
          "",
          "",
          "",
          "",
          "",
          "",
          "",
          "",
          "",
          "",
          "",
          "",
          "",
          "",
          "",
          "",
          "",
          "",
          "",
          "",
          "",
          "",
          "",
          "",
          "",
          "",
          "",
          "",
          "",
          "",
          "",
          "",
          "",
          "",
          "",
          "",
          "",
          "",
          "",
          "",
          "",
          "",
          "",
          "",
          "",
          "",
          "",
          "",
          "",
          "",
          "",
          "",
          "",
          "",
          "",
          "",
          "",
          "",
          "",
          "",
          "",
          "",
          "",
          "",
          "",
          "",
          "",
          "",
          "",
          "",
          "",
          "",
          "",
          "",
          "",
          "",
          "",
          "",
          "",
          "",
          "",
          "",
          "",
          "",
          "",
          "",
          "",
          "",
          "",
          "",
          "",
          "",
          "",
          "",
          "",
          "",
          "",
          "",
          "",
          "",
          "",
          "",
          "",
          "",
          "",
          "",
          "",
          "",
          "",
          "",
          "",
          "",
          "",
          "",
          "",
          "",
          "",
          "",
          "",
          "",
          "",
          "",
          "",
          "",
          "",
          "",
          "",
          "",
          "",
          "",
          "",
          ""
         ],
         "type": "sunburst",
         "values": [
          8.8,
          8.7,
          5.3,
          9.4,
          10.1,
          9.5,
          7.3,
          9.6,
          6.9,
          10.3,
          8.1,
          4.8,
          10.3,
          11.8,
          11.6,
          10.5,
          10.6,
          12.7,
          11.4,
          11.5,
          11.9,
          11.7,
          12,
          7.6,
          5.9,
          12.3,
          12.8,
          11.7,
          9.7,
          11.2,
          12.5,
          12.2,
          12.2,
          8.7,
          10.4,
          11,
          8.6,
          11.7,
          13.2,
          9.7,
          11,
          11.7,
          13.4,
          11.6,
          12.9,
          13.4,
          9.3,
          12.8,
          10.7,
          10.6,
          12.6,
          14.8,
          15,
          9.9,
          12.9,
          7.2,
          3.2,
          8.4,
          9.7,
          10.6,
          9.7,
          6.7,
          9.7,
          16.1,
          15.9,
          11.5,
          12.4,
          12.2,
          13.4,
          11.9,
          11.4,
          14.1,
          15.7,
          14.8,
          5.6,
          6.6,
          10.5,
          15.9,
          15.5,
          10.9,
          14.7,
          11.9,
          14.4,
          14.9,
          12.9,
          15.2,
          13.2,
          13.2,
          17.4,
          7.6,
          11.3,
          11.3,
          15.9,
          14.5,
          15.5,
          15.6,
          17.6,
          7,
          16.6,
          14.9,
          16.6,
          17.1,
          14.6,
          17.4,
          9.5,
          17,
          12.9,
          8.5,
          10.1,
          9.6,
          10.1,
          11.8,
          15.5,
          19.8,
          18.9,
          5.7,
          12,
          18.9,
          18,
          20.7,
          5.5,
          21.4,
          14.2,
          17.3,
          20.2,
          20.8,
          15,
          18.4,
          14,
          5.3,
          20.2,
          18.3,
          16.9,
          19.7,
          11.8,
          19,
          8.8,
          20.1,
          17.1,
          19.4,
          19.6,
          20.7,
          15.2,
          12.6,
          9.2,
          19.2,
          17.3,
          13.3,
          23.8,
          22.2,
          12.5,
          18,
          7.3,
          15.9,
          8,
          21.5,
          22.1,
          21.8,
          10.8,
          6.6,
          9.5,
          10.4,
          1.6,
          24.4,
          19,
          10.9,
          16,
          10.8,
          18.5,
          23.2,
          17.2,
          22.6,
          19.6,
          25.5,
          25.4,
          24.2,
          18,
          21.7,
          26.2,
          15.3,
          8.7,
          25.4,
          20.7,
          22.3,
          13.6,
          22.6,
          9.3,
          21.2,
          19.2,
          14.6,
          11.6,
          22.4,
          16.7,
          7.2,
          27,
          24.7,
          25.4,
          14.7,
          23.7,
          23.8,
          1.6,
          3.2,
          5.3,
          5.5,
          6.6,
          5.7,
          4.8,
          7.2,
          7.3,
          5.3,
          5.6,
          8.7,
          5.9,
          9.3,
          8,
          6.7,
          7,
          6.6,
          7.6,
          9.2,
          7.2,
          8.5,
          9.5,
          8.8,
          6.9,
          7.3,
          9.5,
          10.8,
          10.9,
          7.6,
          10.8,
          9.6,
          10.1,
          10.4,
          10.1,
          11.6,
          8.4,
          8.1,
          8.7,
          11.8,
          9.7,
          9.7,
          8.6,
          9.7,
          12.5,
          13.6,
          9.3,
          11.3,
          10.5,
          10.9,
          14.7,
          12.6,
          11.3,
          9.9,
          12,
          9.4,
          11.8,
          14.6,
          8.8,
          13.3,
          10.6,
          12.9,
          10.6,
          8.7,
          15.3,
          9.7,
          9.5,
          11.4,
          9.6,
          9.7,
          10.7,
          14,
          10.4,
          11.5,
          12.4,
          16.7,
          16,
          11.9,
          11,
          11.9,
          13.2,
          14.2,
          11.6,
          15.2,
          15.9,
          11,
          18,
          12.9,
          11.2,
          17.2,
          13.2,
          19.2,
          12.2,
          13.4,
          10.3,
          10.3,
          15.5,
          15,
          14.6,
          17.3,
          10.1,
          18.5,
          10.5,
          16.9,
          18,
          14.5,
          12.6,
          19.6,
          11.7,
          11.7,
          19,
          14.4,
          14.9,
          14.1,
          12.8,
          17.1,
          12.9,
          21.2,
          20.7,
          15.5,
          15.6,
          14.7,
          14.9,
          17.3,
          15.2,
          19.2,
          22.4,
          11.7,
          16.6,
          23.7,
          18.3,
          10.6,
          11.4,
          16.6,
          19,
          22.6,
          12.2,
          12.9,
          15.9,
          18.4,
          23.8,
          17,
          21.7,
          17.4,
          17.1,
          22.6,
          22.3,
          19.4,
          18,
          12.2,
          19.6,
          24.7,
          20.1,
          11.5,
          11.7,
          11.6,
          13.4,
          14.8,
          21.5,
          15.5,
          19.7,
          22.1,
          13.4,
          11.9,
          18.9,
          12.5,
          20.7,
          15.7,
          12.3,
          23.2,
          13.2,
          15.9,
          21.8,
          25.4,
          20.2,
          18.9,
          22.2,
          17.6,
          19.8,
          24.2,
          20.2,
          12,
          12.7,
          17.4,
          25.4,
          20.8,
          11.8,
          27,
          14.8,
          16.1,
          24.4,
          25.5,
          15,
          15.9,
          26.2,
          25.4,
          12.8,
          21.4,
          20.7,
          23.8,
          17.4,
          9.3,
          4.8,
          20.7,
          20.7,
          5.7,
          9.5,
          14.1,
          24.7,
          30.3,
          15.9,
          17.4,
          25.4,
          20.7,
          11.9,
          19.8,
          3.2,
          10.8,
          11.7,
          27.200000000000003,
          27.8,
          9.7,
          27.5,
          9.7,
          10.5,
          14,
          24.4,
          28.2,
          10.3,
          8.8,
          39.099999999999994,
          5.3,
          15.6,
          13.4,
          15.9,
          11.5,
          18.9,
          13.2,
          10.9,
          15.2,
          15,
          11.7,
          10.9,
          28.5,
          7.6,
          30.8,
          9.4,
          11.6,
          20.2,
          12,
          13.2,
          7.6,
          12.6,
          14.7,
          17.3,
          21,
          8.4,
          23.2,
          14.6,
          8.8,
          12.2,
          12,
          22.6,
          20.2,
          9.6,
          10.1,
          6.9,
          10.6,
          22.9,
          8,
          15.5,
          18.4,
          34.8,
          11,
          30.5,
          6.7,
          24.3,
          11.8,
          8.6,
          10.1,
          32.4,
          10.6,
          15.5,
          12.9,
          10.3,
          22.3,
          15.7,
          12.2,
          18,
          15.899999999999999,
          27.200000000000003,
          14.4,
          11,
          14.9,
          22.5,
          12.4,
          21.5,
          11.3,
          7.3,
          21.7,
          10.4,
          14.6,
          24.3,
          10.1,
          11.7,
          13.6,
          10.6,
          9.7,
          12.3,
          16.1,
          42.8,
          20.1,
          11.9,
          35.400000000000006,
          11.4,
          22.6,
          10.5,
          5.5,
          27,
          12.7,
          9.7,
          21.4,
          8.5,
          25.4,
          30,
          7.3,
          14.7,
          17.2,
          19,
          15.5,
          14.5,
          11.6,
          13.3,
          5.6,
          11.7,
          14.8,
          7,
          15.3,
          6.6,
          25.4,
          16.7,
          12.6,
          39.3,
          18,
          24.2,
          24.4,
          13.4,
          17.1,
          12.9,
          18.5,
          21.2,
          38.599999999999994,
          20.8,
          23.7,
          16,
          10.8,
          15.2,
          9.2,
          25.5,
          22.1,
          9.3,
          26.2,
          22.2,
          12.9,
          19.7,
          7.2,
          19.2,
          15.9,
          11.9,
          8.7,
          23.8,
          12.5
         ]
        }
       ],
       "layout": {
        "height": 700,
        "legend": {
         "tracegroupgap": 0
        },
        "template": {
         "data": {
          "bar": [
           {
            "error_x": {
             "color": "#2a3f5f"
            },
            "error_y": {
             "color": "#2a3f5f"
            },
            "marker": {
             "line": {
              "color": "#E5ECF6",
              "width": 0.5
             },
             "pattern": {
              "fillmode": "overlay",
              "size": 10,
              "solidity": 0.2
             }
            },
            "type": "bar"
           }
          ],
          "barpolar": [
           {
            "marker": {
             "line": {
              "color": "#E5ECF6",
              "width": 0.5
             },
             "pattern": {
              "fillmode": "overlay",
              "size": 10,
              "solidity": 0.2
             }
            },
            "type": "barpolar"
           }
          ],
          "carpet": [
           {
            "aaxis": {
             "endlinecolor": "#2a3f5f",
             "gridcolor": "white",
             "linecolor": "white",
             "minorgridcolor": "white",
             "startlinecolor": "#2a3f5f"
            },
            "baxis": {
             "endlinecolor": "#2a3f5f",
             "gridcolor": "white",
             "linecolor": "white",
             "minorgridcolor": "white",
             "startlinecolor": "#2a3f5f"
            },
            "type": "carpet"
           }
          ],
          "choropleth": [
           {
            "colorbar": {
             "outlinewidth": 0,
             "ticks": ""
            },
            "type": "choropleth"
           }
          ],
          "contour": [
           {
            "colorbar": {
             "outlinewidth": 0,
             "ticks": ""
            },
            "colorscale": [
             [
              0,
              "#0d0887"
             ],
             [
              0.1111111111111111,
              "#46039f"
             ],
             [
              0.2222222222222222,
              "#7201a8"
             ],
             [
              0.3333333333333333,
              "#9c179e"
             ],
             [
              0.4444444444444444,
              "#bd3786"
             ],
             [
              0.5555555555555556,
              "#d8576b"
             ],
             [
              0.6666666666666666,
              "#ed7953"
             ],
             [
              0.7777777777777778,
              "#fb9f3a"
             ],
             [
              0.8888888888888888,
              "#fdca26"
             ],
             [
              1,
              "#f0f921"
             ]
            ],
            "type": "contour"
           }
          ],
          "contourcarpet": [
           {
            "colorbar": {
             "outlinewidth": 0,
             "ticks": ""
            },
            "type": "contourcarpet"
           }
          ],
          "heatmap": [
           {
            "colorbar": {
             "outlinewidth": 0,
             "ticks": ""
            },
            "colorscale": [
             [
              0,
              "#0d0887"
             ],
             [
              0.1111111111111111,
              "#46039f"
             ],
             [
              0.2222222222222222,
              "#7201a8"
             ],
             [
              0.3333333333333333,
              "#9c179e"
             ],
             [
              0.4444444444444444,
              "#bd3786"
             ],
             [
              0.5555555555555556,
              "#d8576b"
             ],
             [
              0.6666666666666666,
              "#ed7953"
             ],
             [
              0.7777777777777778,
              "#fb9f3a"
             ],
             [
              0.8888888888888888,
              "#fdca26"
             ],
             [
              1,
              "#f0f921"
             ]
            ],
            "type": "heatmap"
           }
          ],
          "heatmapgl": [
           {
            "colorbar": {
             "outlinewidth": 0,
             "ticks": ""
            },
            "colorscale": [
             [
              0,
              "#0d0887"
             ],
             [
              0.1111111111111111,
              "#46039f"
             ],
             [
              0.2222222222222222,
              "#7201a8"
             ],
             [
              0.3333333333333333,
              "#9c179e"
             ],
             [
              0.4444444444444444,
              "#bd3786"
             ],
             [
              0.5555555555555556,
              "#d8576b"
             ],
             [
              0.6666666666666666,
              "#ed7953"
             ],
             [
              0.7777777777777778,
              "#fb9f3a"
             ],
             [
              0.8888888888888888,
              "#fdca26"
             ],
             [
              1,
              "#f0f921"
             ]
            ],
            "type": "heatmapgl"
           }
          ],
          "histogram": [
           {
            "marker": {
             "pattern": {
              "fillmode": "overlay",
              "size": 10,
              "solidity": 0.2
             }
            },
            "type": "histogram"
           }
          ],
          "histogram2d": [
           {
            "colorbar": {
             "outlinewidth": 0,
             "ticks": ""
            },
            "colorscale": [
             [
              0,
              "#0d0887"
             ],
             [
              0.1111111111111111,
              "#46039f"
             ],
             [
              0.2222222222222222,
              "#7201a8"
             ],
             [
              0.3333333333333333,
              "#9c179e"
             ],
             [
              0.4444444444444444,
              "#bd3786"
             ],
             [
              0.5555555555555556,
              "#d8576b"
             ],
             [
              0.6666666666666666,
              "#ed7953"
             ],
             [
              0.7777777777777778,
              "#fb9f3a"
             ],
             [
              0.8888888888888888,
              "#fdca26"
             ],
             [
              1,
              "#f0f921"
             ]
            ],
            "type": "histogram2d"
           }
          ],
          "histogram2dcontour": [
           {
            "colorbar": {
             "outlinewidth": 0,
             "ticks": ""
            },
            "colorscale": [
             [
              0,
              "#0d0887"
             ],
             [
              0.1111111111111111,
              "#46039f"
             ],
             [
              0.2222222222222222,
              "#7201a8"
             ],
             [
              0.3333333333333333,
              "#9c179e"
             ],
             [
              0.4444444444444444,
              "#bd3786"
             ],
             [
              0.5555555555555556,
              "#d8576b"
             ],
             [
              0.6666666666666666,
              "#ed7953"
             ],
             [
              0.7777777777777778,
              "#fb9f3a"
             ],
             [
              0.8888888888888888,
              "#fdca26"
             ],
             [
              1,
              "#f0f921"
             ]
            ],
            "type": "histogram2dcontour"
           }
          ],
          "mesh3d": [
           {
            "colorbar": {
             "outlinewidth": 0,
             "ticks": ""
            },
            "type": "mesh3d"
           }
          ],
          "parcoords": [
           {
            "line": {
             "colorbar": {
              "outlinewidth": 0,
              "ticks": ""
             }
            },
            "type": "parcoords"
           }
          ],
          "pie": [
           {
            "automargin": true,
            "type": "pie"
           }
          ],
          "scatter": [
           {
            "fillpattern": {
             "fillmode": "overlay",
             "size": 10,
             "solidity": 0.2
            },
            "type": "scatter"
           }
          ],
          "scatter3d": [
           {
            "line": {
             "colorbar": {
              "outlinewidth": 0,
              "ticks": ""
             }
            },
            "marker": {
             "colorbar": {
              "outlinewidth": 0,
              "ticks": ""
             }
            },
            "type": "scatter3d"
           }
          ],
          "scattercarpet": [
           {
            "marker": {
             "colorbar": {
              "outlinewidth": 0,
              "ticks": ""
             }
            },
            "type": "scattercarpet"
           }
          ],
          "scattergeo": [
           {
            "marker": {
             "colorbar": {
              "outlinewidth": 0,
              "ticks": ""
             }
            },
            "type": "scattergeo"
           }
          ],
          "scattergl": [
           {
            "marker": {
             "colorbar": {
              "outlinewidth": 0,
              "ticks": ""
             }
            },
            "type": "scattergl"
           }
          ],
          "scattermapbox": [
           {
            "marker": {
             "colorbar": {
              "outlinewidth": 0,
              "ticks": ""
             }
            },
            "type": "scattermapbox"
           }
          ],
          "scatterpolar": [
           {
            "marker": {
             "colorbar": {
              "outlinewidth": 0,
              "ticks": ""
             }
            },
            "type": "scatterpolar"
           }
          ],
          "scatterpolargl": [
           {
            "marker": {
             "colorbar": {
              "outlinewidth": 0,
              "ticks": ""
             }
            },
            "type": "scatterpolargl"
           }
          ],
          "scatterternary": [
           {
            "marker": {
             "colorbar": {
              "outlinewidth": 0,
              "ticks": ""
             }
            },
            "type": "scatterternary"
           }
          ],
          "surface": [
           {
            "colorbar": {
             "outlinewidth": 0,
             "ticks": ""
            },
            "colorscale": [
             [
              0,
              "#0d0887"
             ],
             [
              0.1111111111111111,
              "#46039f"
             ],
             [
              0.2222222222222222,
              "#7201a8"
             ],
             [
              0.3333333333333333,
              "#9c179e"
             ],
             [
              0.4444444444444444,
              "#bd3786"
             ],
             [
              0.5555555555555556,
              "#d8576b"
             ],
             [
              0.6666666666666666,
              "#ed7953"
             ],
             [
              0.7777777777777778,
              "#fb9f3a"
             ],
             [
              0.8888888888888888,
              "#fdca26"
             ],
             [
              1,
              "#f0f921"
             ]
            ],
            "type": "surface"
           }
          ],
          "table": [
           {
            "cells": {
             "fill": {
              "color": "#EBF0F8"
             },
             "line": {
              "color": "white"
             }
            },
            "header": {
             "fill": {
              "color": "#C8D4E3"
             },
             "line": {
              "color": "white"
             }
            },
            "type": "table"
           }
          ]
         },
         "layout": {
          "annotationdefaults": {
           "arrowcolor": "#2a3f5f",
           "arrowhead": 0,
           "arrowwidth": 1
          },
          "autotypenumbers": "strict",
          "coloraxis": {
           "colorbar": {
            "outlinewidth": 0,
            "ticks": ""
           }
          },
          "colorscale": {
           "diverging": [
            [
             0,
             "#8e0152"
            ],
            [
             0.1,
             "#c51b7d"
            ],
            [
             0.2,
             "#de77ae"
            ],
            [
             0.3,
             "#f1b6da"
            ],
            [
             0.4,
             "#fde0ef"
            ],
            [
             0.5,
             "#f7f7f7"
            ],
            [
             0.6,
             "#e6f5d0"
            ],
            [
             0.7,
             "#b8e186"
            ],
            [
             0.8,
             "#7fbc41"
            ],
            [
             0.9,
             "#4d9221"
            ],
            [
             1,
             "#276419"
            ]
           ],
           "sequential": [
            [
             0,
             "#0d0887"
            ],
            [
             0.1111111111111111,
             "#46039f"
            ],
            [
             0.2222222222222222,
             "#7201a8"
            ],
            [
             0.3333333333333333,
             "#9c179e"
            ],
            [
             0.4444444444444444,
             "#bd3786"
            ],
            [
             0.5555555555555556,
             "#d8576b"
            ],
            [
             0.6666666666666666,
             "#ed7953"
            ],
            [
             0.7777777777777778,
             "#fb9f3a"
            ],
            [
             0.8888888888888888,
             "#fdca26"
            ],
            [
             1,
             "#f0f921"
            ]
           ],
           "sequentialminus": [
            [
             0,
             "#0d0887"
            ],
            [
             0.1111111111111111,
             "#46039f"
            ],
            [
             0.2222222222222222,
             "#7201a8"
            ],
            [
             0.3333333333333333,
             "#9c179e"
            ],
            [
             0.4444444444444444,
             "#bd3786"
            ],
            [
             0.5555555555555556,
             "#d8576b"
            ],
            [
             0.6666666666666666,
             "#ed7953"
            ],
            [
             0.7777777777777778,
             "#fb9f3a"
            ],
            [
             0.8888888888888888,
             "#fdca26"
            ],
            [
             1,
             "#f0f921"
            ]
           ]
          },
          "colorway": [
           "#636efa",
           "#EF553B",
           "#00cc96",
           "#ab63fa",
           "#FFA15A",
           "#19d3f3",
           "#FF6692",
           "#B6E880",
           "#FF97FF",
           "#FECB52"
          ],
          "font": {
           "color": "#2a3f5f"
          },
          "geo": {
           "bgcolor": "white",
           "lakecolor": "white",
           "landcolor": "#E5ECF6",
           "showlakes": true,
           "showland": true,
           "subunitcolor": "white"
          },
          "hoverlabel": {
           "align": "left"
          },
          "hovermode": "closest",
          "mapbox": {
           "style": "light"
          },
          "paper_bgcolor": "white",
          "plot_bgcolor": "#E5ECF6",
          "polar": {
           "angularaxis": {
            "gridcolor": "white",
            "linecolor": "white",
            "ticks": ""
           },
           "bgcolor": "#E5ECF6",
           "radialaxis": {
            "gridcolor": "white",
            "linecolor": "white",
            "ticks": ""
           }
          },
          "scene": {
           "xaxis": {
            "backgroundcolor": "#E5ECF6",
            "gridcolor": "white",
            "gridwidth": 2,
            "linecolor": "white",
            "showbackground": true,
            "ticks": "",
            "zerolinecolor": "white"
           },
           "yaxis": {
            "backgroundcolor": "#E5ECF6",
            "gridcolor": "white",
            "gridwidth": 2,
            "linecolor": "white",
            "showbackground": true,
            "ticks": "",
            "zerolinecolor": "white"
           },
           "zaxis": {
            "backgroundcolor": "#E5ECF6",
            "gridcolor": "white",
            "gridwidth": 2,
            "linecolor": "white",
            "showbackground": true,
            "ticks": "",
            "zerolinecolor": "white"
           }
          },
          "shapedefaults": {
           "line": {
            "color": "#2a3f5f"
           }
          },
          "ternary": {
           "aaxis": {
            "gridcolor": "white",
            "linecolor": "white",
            "ticks": ""
           },
           "baxis": {
            "gridcolor": "white",
            "linecolor": "white",
            "ticks": ""
           },
           "bgcolor": "#E5ECF6",
           "caxis": {
            "gridcolor": "white",
            "linecolor": "white",
            "ticks": ""
           }
          },
          "title": {
           "x": 0.05
          },
          "xaxis": {
           "automargin": true,
           "gridcolor": "white",
           "linecolor": "white",
           "ticks": "",
           "title": {
            "standoff": 15
           },
           "zerolinecolor": "white",
           "zerolinewidth": 2
          },
          "yaxis": {
           "automargin": true,
           "gridcolor": "white",
           "linecolor": "white",
           "ticks": "",
           "title": {
            "standoff": 15
           },
           "zerolinecolor": "white",
           "zerolinewidth": 2
          }
         }
        },
        "title": {
         "text": "Sales prediction"
        },
        "width": 700
       }
      },
      "text/html": [
       "<div>                            <div id=\"d9700047-0297-46ed-b6bf-f5e7ca22efd9\" class=\"plotly-graph-div\" style=\"height:700px; width:700px;\"></div>            <script type=\"text/javascript\">                require([\"plotly\"], function(Plotly) {                    window.PLOTLYENV=window.PLOTLYENV || {};                                    if (document.getElementById(\"d9700047-0297-46ed-b6bf-f5e7ca22efd9\")) {                    Plotly.newPlot(                        \"d9700047-0297-46ed-b6bf-f5e7ca22efd9\",                        [{\"branchvalues\":\"total\",\"domain\":{\"x\":[0.0,1.0],\"y\":[0.0,1.0]},\"hovertemplate\":\"labels=%{label}\\u003cbr\\u003eSales=%{value}\\u003cbr\\u003eparent=%{parent}\\u003cbr\\u003eid=%{id}\\u003cextra\\u003e\\u003c\\u002fextra\\u003e\",\"ids\":[\"9.2\\u002f80.2\\u002f0.0\",\"23.2\\u002f90.4\\u002f0.3\",\"25.6\\u002f13.1\\u002f0.4\",\"14.8\\u002f76.4\\u002f0.8\",\"24.3\\u002f149.8\\u002f1.3\",\"7.4\\u002f95.7\\u002f1.4\",\"33.0\\u002f28.6\\u002f1.5\",\"30.0\\u002f97.2\\u002f1.5\",\"20.7\\u002f27.5\\u002f1.6\",\"9.0\\u002f140.3\\u002f1.9\",\"21.4\\u002f53.5\\u002f2.0\",\"1.0\\u002f8.6\\u002f2.1\",\"26.6\\u002f139.5\\u002f2.1\",\"23.7\\u002f276.7\\u002f2.3\",\"15.6\\u002f224.0\\u002f2.4\",\"8.3\\u002f156.6\\u002f2.6\",\"21.2\\u002f199.8\\u002f2.6\",\"43.0\\u002f265.2\\u002f2.9\",\"34.6\\u002f199.8\\u002f3.1\",\"13.1\\u002f222.4\\u002f3.4\",\"84.8\\u002f234.5\\u002f3.4\",\"5.9\\u002f197.6\\u002f3.5\",\"19.5\\u002f262.9\\u002f3.5\",\"13.8\\u002f38.2\\u002f3.7\",\"31.6\\u002f17.2\\u002f4.1\",\"36.9\\u002f239.8\\u002f4.1\",\"8.5\\u002f290.7\\u002f4.1\",\"49.8\\u002f222.4\\u002f4.3\",\"8.1\\u002f94.2\\u002f4.9\",\"9.3\\u002f134.3\\u002f4.9\",\"23.5\\u002f237.4\\u002f5.1\",\"19.4\\u002f206.8\\u002f5.2\",\"27.4\\u002f218.5\\u002f5.4\",\"29.7\\u002f56.2\\u002f5.7\",\"34.4\\u002f104.6\\u002f5.7\",\"31.3\\u002f129.4\\u002f5.7\",\"24.2\\u002f66.1\\u002f5.8\",\"12.8\\u002f168.4\\u002f7.1\",\"8.7\\u002f240.1\\u002f7.3\",\"7.2\\u002f97.5\\u002f7.6\",\"23.1\\u002f116.0\\u002f7.7\",\"35.2\\u002f170.2\\u002f7.8\",\"56.5\\u002f225.8\\u002f8.2\",\"48.7\\u002f121.0\\u002f8.4\",\"26.4\\u002f206.9\\u002f8.4\",\"8.7\\u002f232.1\\u002f8.6\",\"0.9\\u002f69.0\\u002f9.3\",\"6.4\\u002f177.0\\u002f9.3\",\"3.6\\u002f100.4\\u002f9.6\",\"35.7\\u002f89.7\\u002f9.9\",\"17.6\\u002f165.6\\u002f10.0\",\"21.4\\u002f280.2\\u002f10.1\",\"6.4\\u002f284.3\\u002f10.6\",\"6.0\\u002f75.5\\u002f10.8\",\"58.4\\u002f180.8\\u002f10.8\",\"29.7\\u002f25.0\\u002f11.0\",\"5.7\\u002f4.1\\u002f11.6\",\"18.4\\u002f50.0\\u002f11.6\",\"36.8\\u002f66.9\\u002f11.7\",\"25.9\\u002f87.2\\u002f11.8\",\"43.1\\u002f59.6\\u002f12.0\",\"23.4\\u002f18.7\\u002f12.1\",\"18.3\\u002f62.3\\u002f12.6\",\"37.0\\u002f280.7\\u002f13.9\",\"3.7\\u002f286.0\\u002f13.9\",\"10.9\\u002f107.4\\u002f14.0\",\"31.7\\u002f109.8\\u002f14.3\",\"25.6\\u002f139.2\\u002f14.3\",\"10.2\\u002f139.3\\u002f14.5\",\"5.4\\u002f117.2\\u002f14.7\",\"38.9\\u002f96.2\\u002f14.8\",\"2.4\\u002f175.7\\u002f15.4\",\"27.3\\u002f239.3\\u002f15.5\",\"49.9\\u002f227.2\\u002f15.8\",\"49.6\\u002f13.2\\u002f15.9\",\"22.3\\u002f19.4\\u002f16.0\",\"40.8\\u002f70.6\\u002f16.0\",\"22.9\\u002f240.1\\u002f16.7\",\"26.2\\u002f228.3\\u002f16.9\",\"12.9\\u002f73.4\\u002f17.0\",\"17.9\\u002f187.9\\u002f17.2\",\"38.6\\u002f112.9\\u002f17.4\",\"30.7\\u002f172.5\\u002f18.1\",\"25.6\\u002f188.4\\u002f18.1\",\"34.6\\u002f131.7\\u002f18.4\",\"65.7\\u002f193.2\\u002f18.4\",\"16.6\\u002f136.2\\u002f19.2\",\"11.6\\u002f120.2\\u002f19.6\",\"0.3\\u002f265.6\\u002f20.0\",\"17.0\\u002f19.6\\u002f20.1\",\"32.5\\u002f75.3\\u002f20.3\",\"18.3\\u002f69.2\\u002f20.5\",\"10.7\\u002f209.6\\u002f20.6\",\"47.4\\u002f164.5\\u002f20.9\",\"22.0\\u002f184.9\\u002f21.0\",\"9.5\\u002f187.8\\u002f21.1\",\"30.0\\u002f253.8\\u002f21.3\",\"50.4\\u002f18.8\\u002f21.7\",\"31.6\\u002f202.5\\u002f22.3\",\"31.5\\u002f175.1\\u002f22.5\",\"14.2\\u002f197.6\\u002f23.3\",\"57.6\\u002f215.4\\u002f23.6\",\"19.1\\u002f147.3\\u002f23.9\",\"4.0\\u002f214.7\\u002f24.0\",\"2.2\\u002f31.5\\u002f24.6\",\"13.1\\u002f213.4\\u002f24.6\",\"73.4\\u002f88.3\\u002f25.5\",\"43.3\\u002f25.1\\u002f25.7\",\"20.6\\u002f44.7\\u002f25.8\",\"20.5\\u002f43.0\\u002f25.9\",\"35.1\\u002f43.1\\u002f26.7\",\"22.3\\u002f76.4\\u002f26.7\",\"46.2\\u002f141.3\\u002f26.8\",\"5.5\\u002f255.4\\u002f26.9\",\"22.9\\u002f248.8\\u002f27.1\",\"2.1\\u002f8.4\\u002f27.2\",\"16.0\\u002f76.3\\u002f27.5\",\"11.0\\u002f237.4\\u002f27.5\",\"53.4\\u002f218.4\\u002f27.7\",\"1.8\\u002f293.6\\u002f27.7\",\"41.4\\u002f7.3\\u002f28.1\",\"43.2\\u002f292.9\\u002f28.3\",\"14.2\\u002f120.5\\u002f28.5\",\"18.2\\u002f191.1\\u002f28.7\",\"15.9\\u002f262.7\\u002f28.8\",\"59.7\\u002f273.7\\u002f28.9\",\"12.6\\u002f142.9\\u002f29.3\",\"9.3\\u002f210.7\\u002f29.5\",\"8.4\\u002f102.7\\u002f29.6\",\"9.4\\u002f5.4\\u002f29.9\",\"20.3\\u002f248.4\\u002f30.2\",\"38.7\\u002f199.1\\u002f30.6\",\"52.9\\u002f163.3\\u002f31.6\",\"74.2\\u002f229.5\\u002f32.3\",\"23.5\\u002f57.5\\u002f32.8\",\"46.0\\u002f204.1\\u002f32.9\",\"19.3\\u002f26.8\\u002f33.0\",\"37.9\\u002f220.5\\u002f33.2\",\"38.7\\u002f177.0\\u002f33.4\",\"59.0\\u002f217.7\\u002f33.5\",\"45.1\\u002f219.8\\u002f33.5\",\"5.3\\u002f238.2\\u002f34.3\",\"12.4\\u002f123.1\\u002f34.6\",\"52.7\\u002f75.1\\u002f35.0\",\"65.9\\u002f23.8\\u002f35.1\",\"75.6\\u002f193.7\\u002f35.4\",\"6.0\\u002f149.7\\u002f35.6\",\"49.3\\u002f85.7\\u002f35.8\",\"100.9\\u002f296.4\\u002f36.3\",\"72.3\\u002f250.9\\u002f36.5\",\"114.0\\u002f67.8\\u002f36.6\",\"7.4\\u002f163.5\\u002f36.8\",\"45.2\\u002f11.7\\u002f36.9\",\"79.2\\u002f125.7\\u002f36.9\",\"21.6\\u002f17.9\\u002f37.6\",\"32.0\\u002f228.0\\u002f37.7\",\"69.2\\u002f230.1\\u002f37.8\",\"23.2\\u002f241.7\\u002f38.0\",\"65.6\\u002f36.9\\u002f38.6\",\"50.6\\u002f7.8\\u002f38.9\",\"9.3\\u002f25.6\\u002f39.0\",\"45.1\\u002f44.5\\u002f39.3\",\"8.7\\u002f0.7\\u002f39.6\",\"55.8\\u002f281.4\\u002f39.6\",\"37.7\\u002f171.3\\u002f39.7\",\"11.9\\u002f38.0\\u002f40.3\",\"63.2\\u002f110.7\\u002f40.6\",\"5.8\\u002f39.5\\u002f41.1\",\"58.5\\u002f151.5\\u002f41.3\",\"18.5\\u002f239.9\\u002f41.5\",\"45.9\\u002f135.2\\u002f41.7\",\"39.6\\u002f216.4\\u002f41.7\",\"3.6\\u002f166.8\\u002f42.0\",\"66.2\\u002f283.6\\u002f42.0\",\"51.2\\u002f289.7\\u002f42.3\",\"54.7\\u002f261.3\\u002f42.7\",\"28.9\\u002f131.1\\u002f42.8\",\"33.8\\u002f213.5\\u002f43.0\",\"71.8\\u002f287.6\\u002f43.0\",\"50.5\\u002f93.9\\u002f43.5\",\"89.4\\u002f16.9\\u002f43.7\",\"5.0\\u002f266.9\\u002f43.8\",\"1.7\\u002f184.9\\u002f43.9\",\"27.2\\u002f216.8\\u002f43.9\",\"35.6\\u002f68.4\\u002f44.5\",\"19.6\\u002f205.0\\u002f45.1\",\"69.3\\u002f17.2\\u002f45.9\",\"58.7\\u002f182.6\\u002f46.2\",\"59.0\\u002f137.9\\u002f46.4\",\"34.5\\u002f78.2\\u002f46.8\",\"8.5\\u002f48.3\\u002f47.0\",\"52.9\\u002f195.4\\u002f47.7\",\"51.4\\u002f109.8\\u002f47.8\",\"75.0\\u002f8.7\\u002f48.9\",\"41.8\\u002f276.9\\u002f48.9\",\"3.2\\u002f220.3\\u002f49.0\",\"44.3\\u002f243.2\\u002f49.0\",\"45.7\\u002f74.7\\u002f49.4\",\"60.0\\u002f198.9\\u002f49.4\",\"37.7\\u002f210.8\\u002f49.6\",\"8.7\\u002f0.7\",\"5.7\\u002f4.1\",\"9.4\\u002f5.4\",\"41.4\\u002f7.3\",\"50.6\\u002f7.8\",\"2.1\\u002f8.4\",\"1.0\\u002f8.6\",\"75.0\\u002f8.7\",\"45.2\\u002f11.7\",\"25.6\\u002f13.1\",\"49.6\\u002f13.2\",\"89.4\\u002f16.9\",\"31.6\\u002f17.2\",\"69.3\\u002f17.2\",\"21.6\\u002f17.9\",\"23.4\\u002f18.7\",\"50.4\\u002f18.8\",\"22.3\\u002f19.4\",\"17.0\\u002f19.6\",\"65.9\\u002f23.8\",\"29.7\\u002f25.0\",\"43.3\\u002f25.1\",\"9.3\\u002f25.6\",\"19.3\\u002f26.8\",\"20.7\\u002f27.5\",\"33.0\\u002f28.6\",\"2.2\\u002f31.5\",\"65.6\\u002f36.9\",\"11.9\\u002f38.0\",\"13.8\\u002f38.2\",\"5.8\\u002f39.5\",\"20.5\\u002f43.0\",\"35.1\\u002f43.1\",\"45.1\\u002f44.5\",\"20.6\\u002f44.7\",\"8.5\\u002f48.3\",\"18.4\\u002f50.0\",\"21.4\\u002f53.5\",\"29.7\\u002f56.2\",\"23.5\\u002f57.5\",\"43.1\\u002f59.6\",\"18.3\\u002f62.3\",\"24.2\\u002f66.1\",\"36.8\\u002f66.9\",\"114.0\\u002f67.8\",\"35.6\\u002f68.4\",\"0.9\\u002f69.0\",\"18.3\\u002f69.2\",\"40.8\\u002f70.6\",\"12.9\\u002f73.4\",\"45.7\\u002f74.7\",\"52.7\\u002f75.1\",\"32.5\\u002f75.3\",\"6.0\\u002f75.5\",\"16.0\\u002f76.3\",\"14.8\\u002f76.4\",\"22.3\\u002f76.4\",\"34.5\\u002f78.2\",\"9.2\\u002f80.2\",\"49.3\\u002f85.7\",\"25.9\\u002f87.2\",\"73.4\\u002f88.3\",\"35.7\\u002f89.7\",\"23.2\\u002f90.4\",\"50.5\\u002f93.9\",\"8.1\\u002f94.2\",\"7.4\\u002f95.7\",\"38.9\\u002f96.2\",\"30.0\\u002f97.2\",\"7.2\\u002f97.5\",\"3.6\\u002f100.4\",\"8.4\\u002f102.7\",\"34.4\\u002f104.6\",\"10.9\\u002f107.4\",\"31.7\\u002f109.8\",\"51.4\\u002f109.8\",\"63.2\\u002f110.7\",\"38.6\\u002f112.9\",\"23.1\\u002f116.0\",\"5.4\\u002f117.2\",\"11.6\\u002f120.2\",\"14.2\\u002f120.5\",\"48.7\\u002f121.0\",\"12.4\\u002f123.1\",\"79.2\\u002f125.7\",\"31.3\\u002f129.4\",\"28.9\\u002f131.1\",\"34.6\\u002f131.7\",\"9.3\\u002f134.3\",\"45.9\\u002f135.2\",\"16.6\\u002f136.2\",\"59.0\\u002f137.9\",\"25.6\\u002f139.2\",\"10.2\\u002f139.3\",\"26.6\\u002f139.5\",\"9.0\\u002f140.3\",\"46.2\\u002f141.3\",\"12.6\\u002f142.9\",\"19.1\\u002f147.3\",\"6.0\\u002f149.7\",\"24.3\\u002f149.8\",\"58.5\\u002f151.5\",\"8.3\\u002f156.6\",\"52.9\\u002f163.3\",\"7.4\\u002f163.5\",\"47.4\\u002f164.5\",\"17.6\\u002f165.6\",\"3.6\\u002f166.8\",\"12.8\\u002f168.4\",\"35.2\\u002f170.2\",\"37.7\\u002f171.3\",\"30.7\\u002f172.5\",\"31.5\\u002f175.1\",\"2.4\\u002f175.7\",\"6.4\\u002f177.0\",\"38.7\\u002f177.0\",\"58.4\\u002f180.8\",\"58.7\\u002f182.6\",\"1.7\\u002f184.9\",\"22.0\\u002f184.9\",\"9.5\\u002f187.8\",\"17.9\\u002f187.9\",\"25.6\\u002f188.4\",\"18.2\\u002f191.1\",\"65.7\\u002f193.2\",\"75.6\\u002f193.7\",\"52.9\\u002f195.4\",\"5.9\\u002f197.6\",\"14.2\\u002f197.6\",\"60.0\\u002f198.9\",\"38.7\\u002f199.1\",\"21.2\\u002f199.8\",\"34.6\\u002f199.8\",\"31.6\\u002f202.5\",\"46.0\\u002f204.1\",\"19.6\\u002f205.0\",\"19.4\\u002f206.8\",\"26.4\\u002f206.9\",\"10.7\\u002f209.6\",\"9.3\\u002f210.7\",\"37.7\\u002f210.8\",\"13.1\\u002f213.4\",\"33.8\\u002f213.5\",\"4.0\\u002f214.7\",\"57.6\\u002f215.4\",\"39.6\\u002f216.4\",\"27.2\\u002f216.8\",\"59.0\\u002f217.7\",\"53.4\\u002f218.4\",\"27.4\\u002f218.5\",\"45.1\\u002f219.8\",\"3.2\\u002f220.3\",\"37.9\\u002f220.5\",\"13.1\\u002f222.4\",\"49.8\\u002f222.4\",\"15.6\\u002f224.0\",\"56.5\\u002f225.8\",\"49.9\\u002f227.2\",\"32.0\\u002f228.0\",\"26.2\\u002f228.3\",\"74.2\\u002f229.5\",\"69.2\\u002f230.1\",\"8.7\\u002f232.1\",\"84.8\\u002f234.5\",\"11.0\\u002f237.4\",\"23.5\\u002f237.4\",\"5.3\\u002f238.2\",\"27.3\\u002f239.3\",\"36.9\\u002f239.8\",\"18.5\\u002f239.9\",\"8.7\\u002f240.1\",\"22.9\\u002f240.1\",\"23.2\\u002f241.7\",\"44.3\\u002f243.2\",\"20.3\\u002f248.4\",\"22.9\\u002f248.8\",\"72.3\\u002f250.9\",\"30.0\\u002f253.8\",\"5.5\\u002f255.4\",\"54.7\\u002f261.3\",\"15.9\\u002f262.7\",\"19.5\\u002f262.9\",\"43.0\\u002f265.2\",\"0.3\\u002f265.6\",\"5.0\\u002f266.9\",\"59.7\\u002f273.7\",\"23.7\\u002f276.7\",\"41.8\\u002f276.9\",\"21.4\\u002f280.2\",\"37.0\\u002f280.7\",\"55.8\\u002f281.4\",\"66.2\\u002f283.6\",\"6.4\\u002f284.3\",\"3.7\\u002f286.0\",\"71.8\\u002f287.6\",\"51.2\\u002f289.7\",\"8.5\\u002f290.7\",\"43.2\\u002f292.9\",\"1.8\\u002f293.6\",\"100.9\\u002f296.4\",\"0.3\",\"0.9\",\"1.0\",\"1.7\",\"1.8\",\"2.1\",\"2.2\",\"2.4\",\"3.2\",\"3.6\",\"3.7\",\"4.0\",\"5.0\",\"5.3\",\"5.4\",\"5.5\",\"5.7\",\"5.8\",\"5.9\",\"6.0\",\"6.4\",\"7.2\",\"7.4\",\"8.1\",\"8.3\",\"8.4\",\"8.5\",\"8.7\",\"9.0\",\"9.2\",\"9.3\",\"9.4\",\"9.5\",\"10.2\",\"10.7\",\"10.9\",\"11.0\",\"11.6\",\"11.9\",\"12.4\",\"12.6\",\"12.8\",\"12.9\",\"13.1\",\"13.8\",\"14.2\",\"14.8\",\"15.6\",\"15.9\",\"16.0\",\"16.6\",\"17.0\",\"17.6\",\"17.9\",\"18.2\",\"18.3\",\"18.4\",\"18.5\",\"19.1\",\"19.3\",\"19.4\",\"19.5\",\"19.6\",\"20.3\",\"20.5\",\"20.6\",\"20.7\",\"21.2\",\"21.4\",\"21.6\",\"22.0\",\"22.3\",\"22.9\",\"23.1\",\"23.2\",\"23.4\",\"23.5\",\"23.7\",\"24.2\",\"24.3\",\"25.6\",\"25.9\",\"26.2\",\"26.4\",\"26.6\",\"27.2\",\"27.3\",\"27.4\",\"28.9\",\"29.7\",\"30.0\",\"30.7\",\"31.3\",\"31.5\",\"31.6\",\"31.7\",\"32.0\",\"32.5\",\"33.0\",\"33.8\",\"34.4\",\"34.5\",\"34.6\",\"35.1\",\"35.2\",\"35.6\",\"35.7\",\"36.8\",\"36.9\",\"37.0\",\"37.7\",\"37.9\",\"38.6\",\"38.7\",\"38.9\",\"39.6\",\"40.8\",\"41.4\",\"41.8\",\"43.0\",\"43.1\",\"43.2\",\"43.3\",\"44.3\",\"45.1\",\"45.2\",\"45.7\",\"45.9\",\"46.0\",\"46.2\",\"47.4\",\"48.7\",\"49.3\",\"49.6\",\"49.8\",\"49.9\",\"50.4\",\"50.5\",\"50.6\",\"51.2\",\"51.4\",\"52.7\",\"52.9\",\"53.4\",\"54.7\",\"55.8\",\"56.5\",\"57.6\",\"58.4\",\"58.5\",\"58.7\",\"59.0\",\"59.7\",\"60.0\",\"63.2\",\"65.6\",\"65.7\",\"65.9\",\"66.2\",\"69.2\",\"69.3\",\"71.8\",\"72.3\",\"73.4\",\"74.2\",\"75.0\",\"75.6\",\"79.2\",\"84.8\",\"89.4\",\"100.9\",\"114.0\"],\"labels\":[\"0.0\",\"0.3\",\"0.4\",\"0.8\",\"1.3\",\"1.4\",\"1.5\",\"1.5\",\"1.6\",\"1.9\",\"2.0\",\"2.1\",\"2.1\",\"2.3\",\"2.4\",\"2.6\",\"2.6\",\"2.9\",\"3.1\",\"3.4\",\"3.4\",\"3.5\",\"3.5\",\"3.7\",\"4.1\",\"4.1\",\"4.1\",\"4.3\",\"4.9\",\"4.9\",\"5.1\",\"5.2\",\"5.4\",\"5.7\",\"5.7\",\"5.7\",\"5.8\",\"7.1\",\"7.3\",\"7.6\",\"7.7\",\"7.8\",\"8.2\",\"8.4\",\"8.4\",\"8.6\",\"9.3\",\"9.3\",\"9.6\",\"9.9\",\"10.0\",\"10.1\",\"10.6\",\"10.8\",\"10.8\",\"11.0\",\"11.6\",\"11.6\",\"11.7\",\"11.8\",\"12.0\",\"12.1\",\"12.6\",\"13.9\",\"13.9\",\"14.0\",\"14.3\",\"14.3\",\"14.5\",\"14.7\",\"14.8\",\"15.4\",\"15.5\",\"15.8\",\"15.9\",\"16.0\",\"16.0\",\"16.7\",\"16.9\",\"17.0\",\"17.2\",\"17.4\",\"18.1\",\"18.1\",\"18.4\",\"18.4\",\"19.2\",\"19.6\",\"20.0\",\"20.1\",\"20.3\",\"20.5\",\"20.6\",\"20.9\",\"21.0\",\"21.1\",\"21.3\",\"21.7\",\"22.3\",\"22.5\",\"23.3\",\"23.6\",\"23.9\",\"24.0\",\"24.6\",\"24.6\",\"25.5\",\"25.7\",\"25.8\",\"25.9\",\"26.7\",\"26.7\",\"26.8\",\"26.9\",\"27.1\",\"27.2\",\"27.5\",\"27.5\",\"27.7\",\"27.7\",\"28.1\",\"28.3\",\"28.5\",\"28.7\",\"28.8\",\"28.9\",\"29.3\",\"29.5\",\"29.6\",\"29.9\",\"30.2\",\"30.6\",\"31.6\",\"32.3\",\"32.8\",\"32.9\",\"33.0\",\"33.2\",\"33.4\",\"33.5\",\"33.5\",\"34.3\",\"34.6\",\"35.0\",\"35.1\",\"35.4\",\"35.6\",\"35.8\",\"36.3\",\"36.5\",\"36.6\",\"36.8\",\"36.9\",\"36.9\",\"37.6\",\"37.7\",\"37.8\",\"38.0\",\"38.6\",\"38.9\",\"39.0\",\"39.3\",\"39.6\",\"39.6\",\"39.7\",\"40.3\",\"40.6\",\"41.1\",\"41.3\",\"41.5\",\"41.7\",\"41.7\",\"42.0\",\"42.0\",\"42.3\",\"42.7\",\"42.8\",\"43.0\",\"43.0\",\"43.5\",\"43.7\",\"43.8\",\"43.9\",\"43.9\",\"44.5\",\"45.1\",\"45.9\",\"46.2\",\"46.4\",\"46.8\",\"47.0\",\"47.7\",\"47.8\",\"48.9\",\"48.9\",\"49.0\",\"49.0\",\"49.4\",\"49.4\",\"49.6\",\"0.7\",\"4.1\",\"5.4\",\"7.3\",\"7.8\",\"8.4\",\"8.6\",\"8.7\",\"11.7\",\"13.1\",\"13.2\",\"16.9\",\"17.2\",\"17.2\",\"17.9\",\"18.7\",\"18.8\",\"19.4\",\"19.6\",\"23.8\",\"25.0\",\"25.1\",\"25.6\",\"26.8\",\"27.5\",\"28.6\",\"31.5\",\"36.9\",\"38.0\",\"38.2\",\"39.5\",\"43.0\",\"43.1\",\"44.5\",\"44.7\",\"48.3\",\"50.0\",\"53.5\",\"56.2\",\"57.5\",\"59.6\",\"62.3\",\"66.1\",\"66.9\",\"67.8\",\"68.4\",\"69.0\",\"69.2\",\"70.6\",\"73.4\",\"74.7\",\"75.1\",\"75.3\",\"75.5\",\"76.3\",\"76.4\",\"76.4\",\"78.2\",\"80.2\",\"85.7\",\"87.2\",\"88.3\",\"89.7\",\"90.4\",\"93.9\",\"94.2\",\"95.7\",\"96.2\",\"97.2\",\"97.5\",\"100.4\",\"102.7\",\"104.6\",\"107.4\",\"109.8\",\"109.8\",\"110.7\",\"112.9\",\"116.0\",\"117.2\",\"120.2\",\"120.5\",\"121.0\",\"123.1\",\"125.7\",\"129.4\",\"131.1\",\"131.7\",\"134.3\",\"135.2\",\"136.2\",\"137.9\",\"139.2\",\"139.3\",\"139.5\",\"140.3\",\"141.3\",\"142.9\",\"147.3\",\"149.7\",\"149.8\",\"151.5\",\"156.6\",\"163.3\",\"163.5\",\"164.5\",\"165.6\",\"166.8\",\"168.4\",\"170.2\",\"171.3\",\"172.5\",\"175.1\",\"175.7\",\"177.0\",\"177.0\",\"180.8\",\"182.6\",\"184.9\",\"184.9\",\"187.8\",\"187.9\",\"188.4\",\"191.1\",\"193.2\",\"193.7\",\"195.4\",\"197.6\",\"197.6\",\"198.9\",\"199.1\",\"199.8\",\"199.8\",\"202.5\",\"204.1\",\"205.0\",\"206.8\",\"206.9\",\"209.6\",\"210.7\",\"210.8\",\"213.4\",\"213.5\",\"214.7\",\"215.4\",\"216.4\",\"216.8\",\"217.7\",\"218.4\",\"218.5\",\"219.8\",\"220.3\",\"220.5\",\"222.4\",\"222.4\",\"224.0\",\"225.8\",\"227.2\",\"228.0\",\"228.3\",\"229.5\",\"230.1\",\"232.1\",\"234.5\",\"237.4\",\"237.4\",\"238.2\",\"239.3\",\"239.8\",\"239.9\",\"240.1\",\"240.1\",\"241.7\",\"243.2\",\"248.4\",\"248.8\",\"250.9\",\"253.8\",\"255.4\",\"261.3\",\"262.7\",\"262.9\",\"265.2\",\"265.6\",\"266.9\",\"273.7\",\"276.7\",\"276.9\",\"280.2\",\"280.7\",\"281.4\",\"283.6\",\"284.3\",\"286.0\",\"287.6\",\"289.7\",\"290.7\",\"292.9\",\"293.6\",\"296.4\",\"0.3\",\"0.9\",\"1.0\",\"1.7\",\"1.8\",\"2.1\",\"2.2\",\"2.4\",\"3.2\",\"3.6\",\"3.7\",\"4.0\",\"5.0\",\"5.3\",\"5.4\",\"5.5\",\"5.7\",\"5.8\",\"5.9\",\"6.0\",\"6.4\",\"7.2\",\"7.4\",\"8.1\",\"8.3\",\"8.4\",\"8.5\",\"8.7\",\"9.0\",\"9.2\",\"9.3\",\"9.4\",\"9.5\",\"10.2\",\"10.7\",\"10.9\",\"11.0\",\"11.6\",\"11.9\",\"12.4\",\"12.6\",\"12.8\",\"12.9\",\"13.1\",\"13.8\",\"14.2\",\"14.8\",\"15.6\",\"15.9\",\"16.0\",\"16.6\",\"17.0\",\"17.6\",\"17.9\",\"18.2\",\"18.3\",\"18.4\",\"18.5\",\"19.1\",\"19.3\",\"19.4\",\"19.5\",\"19.6\",\"20.3\",\"20.5\",\"20.6\",\"20.7\",\"21.2\",\"21.4\",\"21.6\",\"22.0\",\"22.3\",\"22.9\",\"23.1\",\"23.2\",\"23.4\",\"23.5\",\"23.7\",\"24.2\",\"24.3\",\"25.6\",\"25.9\",\"26.2\",\"26.4\",\"26.6\",\"27.2\",\"27.3\",\"27.4\",\"28.9\",\"29.7\",\"30.0\",\"30.7\",\"31.3\",\"31.5\",\"31.6\",\"31.7\",\"32.0\",\"32.5\",\"33.0\",\"33.8\",\"34.4\",\"34.5\",\"34.6\",\"35.1\",\"35.2\",\"35.6\",\"35.7\",\"36.8\",\"36.9\",\"37.0\",\"37.7\",\"37.9\",\"38.6\",\"38.7\",\"38.9\",\"39.6\",\"40.8\",\"41.4\",\"41.8\",\"43.0\",\"43.1\",\"43.2\",\"43.3\",\"44.3\",\"45.1\",\"45.2\",\"45.7\",\"45.9\",\"46.0\",\"46.2\",\"47.4\",\"48.7\",\"49.3\",\"49.6\",\"49.8\",\"49.9\",\"50.4\",\"50.5\",\"50.6\",\"51.2\",\"51.4\",\"52.7\",\"52.9\",\"53.4\",\"54.7\",\"55.8\",\"56.5\",\"57.6\",\"58.4\",\"58.5\",\"58.7\",\"59.0\",\"59.7\",\"60.0\",\"63.2\",\"65.6\",\"65.7\",\"65.9\",\"66.2\",\"69.2\",\"69.3\",\"71.8\",\"72.3\",\"73.4\",\"74.2\",\"75.0\",\"75.6\",\"79.2\",\"84.8\",\"89.4\",\"100.9\",\"114.0\"],\"name\":\"\",\"parents\":[\"9.2\\u002f80.2\",\"23.2\\u002f90.4\",\"25.6\\u002f13.1\",\"14.8\\u002f76.4\",\"24.3\\u002f149.8\",\"7.4\\u002f95.7\",\"33.0\\u002f28.6\",\"30.0\\u002f97.2\",\"20.7\\u002f27.5\",\"9.0\\u002f140.3\",\"21.4\\u002f53.5\",\"1.0\\u002f8.6\",\"26.6\\u002f139.5\",\"23.7\\u002f276.7\",\"15.6\\u002f224.0\",\"8.3\\u002f156.6\",\"21.2\\u002f199.8\",\"43.0\\u002f265.2\",\"34.6\\u002f199.8\",\"13.1\\u002f222.4\",\"84.8\\u002f234.5\",\"5.9\\u002f197.6\",\"19.5\\u002f262.9\",\"13.8\\u002f38.2\",\"31.6\\u002f17.2\",\"36.9\\u002f239.8\",\"8.5\\u002f290.7\",\"49.8\\u002f222.4\",\"8.1\\u002f94.2\",\"9.3\\u002f134.3\",\"23.5\\u002f237.4\",\"19.4\\u002f206.8\",\"27.4\\u002f218.5\",\"29.7\\u002f56.2\",\"34.4\\u002f104.6\",\"31.3\\u002f129.4\",\"24.2\\u002f66.1\",\"12.8\\u002f168.4\",\"8.7\\u002f240.1\",\"7.2\\u002f97.5\",\"23.1\\u002f116.0\",\"35.2\\u002f170.2\",\"56.5\\u002f225.8\",\"48.7\\u002f121.0\",\"26.4\\u002f206.9\",\"8.7\\u002f232.1\",\"0.9\\u002f69.0\",\"6.4\\u002f177.0\",\"3.6\\u002f100.4\",\"35.7\\u002f89.7\",\"17.6\\u002f165.6\",\"21.4\\u002f280.2\",\"6.4\\u002f284.3\",\"6.0\\u002f75.5\",\"58.4\\u002f180.8\",\"29.7\\u002f25.0\",\"5.7\\u002f4.1\",\"18.4\\u002f50.0\",\"36.8\\u002f66.9\",\"25.9\\u002f87.2\",\"43.1\\u002f59.6\",\"23.4\\u002f18.7\",\"18.3\\u002f62.3\",\"37.0\\u002f280.7\",\"3.7\\u002f286.0\",\"10.9\\u002f107.4\",\"31.7\\u002f109.8\",\"25.6\\u002f139.2\",\"10.2\\u002f139.3\",\"5.4\\u002f117.2\",\"38.9\\u002f96.2\",\"2.4\\u002f175.7\",\"27.3\\u002f239.3\",\"49.9\\u002f227.2\",\"49.6\\u002f13.2\",\"22.3\\u002f19.4\",\"40.8\\u002f70.6\",\"22.9\\u002f240.1\",\"26.2\\u002f228.3\",\"12.9\\u002f73.4\",\"17.9\\u002f187.9\",\"38.6\\u002f112.9\",\"30.7\\u002f172.5\",\"25.6\\u002f188.4\",\"34.6\\u002f131.7\",\"65.7\\u002f193.2\",\"16.6\\u002f136.2\",\"11.6\\u002f120.2\",\"0.3\\u002f265.6\",\"17.0\\u002f19.6\",\"32.5\\u002f75.3\",\"18.3\\u002f69.2\",\"10.7\\u002f209.6\",\"47.4\\u002f164.5\",\"22.0\\u002f184.9\",\"9.5\\u002f187.8\",\"30.0\\u002f253.8\",\"50.4\\u002f18.8\",\"31.6\\u002f202.5\",\"31.5\\u002f175.1\",\"14.2\\u002f197.6\",\"57.6\\u002f215.4\",\"19.1\\u002f147.3\",\"4.0\\u002f214.7\",\"2.2\\u002f31.5\",\"13.1\\u002f213.4\",\"73.4\\u002f88.3\",\"43.3\\u002f25.1\",\"20.6\\u002f44.7\",\"20.5\\u002f43.0\",\"35.1\\u002f43.1\",\"22.3\\u002f76.4\",\"46.2\\u002f141.3\",\"5.5\\u002f255.4\",\"22.9\\u002f248.8\",\"2.1\\u002f8.4\",\"16.0\\u002f76.3\",\"11.0\\u002f237.4\",\"53.4\\u002f218.4\",\"1.8\\u002f293.6\",\"41.4\\u002f7.3\",\"43.2\\u002f292.9\",\"14.2\\u002f120.5\",\"18.2\\u002f191.1\",\"15.9\\u002f262.7\",\"59.7\\u002f273.7\",\"12.6\\u002f142.9\",\"9.3\\u002f210.7\",\"8.4\\u002f102.7\",\"9.4\\u002f5.4\",\"20.3\\u002f248.4\",\"38.7\\u002f199.1\",\"52.9\\u002f163.3\",\"74.2\\u002f229.5\",\"23.5\\u002f57.5\",\"46.0\\u002f204.1\",\"19.3\\u002f26.8\",\"37.9\\u002f220.5\",\"38.7\\u002f177.0\",\"59.0\\u002f217.7\",\"45.1\\u002f219.8\",\"5.3\\u002f238.2\",\"12.4\\u002f123.1\",\"52.7\\u002f75.1\",\"65.9\\u002f23.8\",\"75.6\\u002f193.7\",\"6.0\\u002f149.7\",\"49.3\\u002f85.7\",\"100.9\\u002f296.4\",\"72.3\\u002f250.9\",\"114.0\\u002f67.8\",\"7.4\\u002f163.5\",\"45.2\\u002f11.7\",\"79.2\\u002f125.7\",\"21.6\\u002f17.9\",\"32.0\\u002f228.0\",\"69.2\\u002f230.1\",\"23.2\\u002f241.7\",\"65.6\\u002f36.9\",\"50.6\\u002f7.8\",\"9.3\\u002f25.6\",\"45.1\\u002f44.5\",\"8.7\\u002f0.7\",\"55.8\\u002f281.4\",\"37.7\\u002f171.3\",\"11.9\\u002f38.0\",\"63.2\\u002f110.7\",\"5.8\\u002f39.5\",\"58.5\\u002f151.5\",\"18.5\\u002f239.9\",\"45.9\\u002f135.2\",\"39.6\\u002f216.4\",\"3.6\\u002f166.8\",\"66.2\\u002f283.6\",\"51.2\\u002f289.7\",\"54.7\\u002f261.3\",\"28.9\\u002f131.1\",\"33.8\\u002f213.5\",\"71.8\\u002f287.6\",\"50.5\\u002f93.9\",\"89.4\\u002f16.9\",\"5.0\\u002f266.9\",\"1.7\\u002f184.9\",\"27.2\\u002f216.8\",\"35.6\\u002f68.4\",\"19.6\\u002f205.0\",\"69.3\\u002f17.2\",\"58.7\\u002f182.6\",\"59.0\\u002f137.9\",\"34.5\\u002f78.2\",\"8.5\\u002f48.3\",\"52.9\\u002f195.4\",\"51.4\\u002f109.8\",\"75.0\\u002f8.7\",\"41.8\\u002f276.9\",\"3.2\\u002f220.3\",\"44.3\\u002f243.2\",\"45.7\\u002f74.7\",\"60.0\\u002f198.9\",\"37.7\\u002f210.8\",\"8.7\",\"5.7\",\"9.4\",\"41.4\",\"50.6\",\"2.1\",\"1.0\",\"75.0\",\"45.2\",\"25.6\",\"49.6\",\"89.4\",\"31.6\",\"69.3\",\"21.6\",\"23.4\",\"50.4\",\"22.3\",\"17.0\",\"65.9\",\"29.7\",\"43.3\",\"9.3\",\"19.3\",\"20.7\",\"33.0\",\"2.2\",\"65.6\",\"11.9\",\"13.8\",\"5.8\",\"20.5\",\"35.1\",\"45.1\",\"20.6\",\"8.5\",\"18.4\",\"21.4\",\"29.7\",\"23.5\",\"43.1\",\"18.3\",\"24.2\",\"36.8\",\"114.0\",\"35.6\",\"0.9\",\"18.3\",\"40.8\",\"12.9\",\"45.7\",\"52.7\",\"32.5\",\"6.0\",\"16.0\",\"14.8\",\"22.3\",\"34.5\",\"9.2\",\"49.3\",\"25.9\",\"73.4\",\"35.7\",\"23.2\",\"50.5\",\"8.1\",\"7.4\",\"38.9\",\"30.0\",\"7.2\",\"3.6\",\"8.4\",\"34.4\",\"10.9\",\"31.7\",\"51.4\",\"63.2\",\"38.6\",\"23.1\",\"5.4\",\"11.6\",\"14.2\",\"48.7\",\"12.4\",\"79.2\",\"31.3\",\"28.9\",\"34.6\",\"9.3\",\"45.9\",\"16.6\",\"59.0\",\"25.6\",\"10.2\",\"26.6\",\"9.0\",\"46.2\",\"12.6\",\"19.1\",\"6.0\",\"24.3\",\"58.5\",\"8.3\",\"52.9\",\"7.4\",\"47.4\",\"17.6\",\"3.6\",\"12.8\",\"35.2\",\"37.7\",\"30.7\",\"31.5\",\"2.4\",\"6.4\",\"38.7\",\"58.4\",\"58.7\",\"1.7\",\"22.0\",\"9.5\",\"17.9\",\"25.6\",\"18.2\",\"65.7\",\"75.6\",\"52.9\",\"5.9\",\"14.2\",\"60.0\",\"38.7\",\"21.2\",\"34.6\",\"31.6\",\"46.0\",\"19.6\",\"19.4\",\"26.4\",\"10.7\",\"9.3\",\"37.7\",\"13.1\",\"33.8\",\"4.0\",\"57.6\",\"39.6\",\"27.2\",\"59.0\",\"53.4\",\"27.4\",\"45.1\",\"3.2\",\"37.9\",\"13.1\",\"49.8\",\"15.6\",\"56.5\",\"49.9\",\"32.0\",\"26.2\",\"74.2\",\"69.2\",\"8.7\",\"84.8\",\"11.0\",\"23.5\",\"5.3\",\"27.3\",\"36.9\",\"18.5\",\"8.7\",\"22.9\",\"23.2\",\"44.3\",\"20.3\",\"22.9\",\"72.3\",\"30.0\",\"5.5\",\"54.7\",\"15.9\",\"19.5\",\"43.0\",\"0.3\",\"5.0\",\"59.7\",\"23.7\",\"41.8\",\"21.4\",\"37.0\",\"55.8\",\"66.2\",\"6.4\",\"3.7\",\"71.8\",\"51.2\",\"8.5\",\"43.2\",\"1.8\",\"100.9\",\"\",\"\",\"\",\"\",\"\",\"\",\"\",\"\",\"\",\"\",\"\",\"\",\"\",\"\",\"\",\"\",\"\",\"\",\"\",\"\",\"\",\"\",\"\",\"\",\"\",\"\",\"\",\"\",\"\",\"\",\"\",\"\",\"\",\"\",\"\",\"\",\"\",\"\",\"\",\"\",\"\",\"\",\"\",\"\",\"\",\"\",\"\",\"\",\"\",\"\",\"\",\"\",\"\",\"\",\"\",\"\",\"\",\"\",\"\",\"\",\"\",\"\",\"\",\"\",\"\",\"\",\"\",\"\",\"\",\"\",\"\",\"\",\"\",\"\",\"\",\"\",\"\",\"\",\"\",\"\",\"\",\"\",\"\",\"\",\"\",\"\",\"\",\"\",\"\",\"\",\"\",\"\",\"\",\"\",\"\",\"\",\"\",\"\",\"\",\"\",\"\",\"\",\"\",\"\",\"\",\"\",\"\",\"\",\"\",\"\",\"\",\"\",\"\",\"\",\"\",\"\",\"\",\"\",\"\",\"\",\"\",\"\",\"\",\"\",\"\",\"\",\"\",\"\",\"\",\"\",\"\",\"\",\"\",\"\",\"\",\"\",\"\",\"\",\"\",\"\",\"\",\"\",\"\",\"\",\"\",\"\",\"\",\"\",\"\",\"\",\"\",\"\",\"\",\"\",\"\",\"\",\"\",\"\",\"\",\"\",\"\",\"\",\"\",\"\",\"\",\"\",\"\",\"\",\"\",\"\",\"\",\"\"],\"values\":[8.8,8.7,5.3,9.4,10.1,9.5,7.3,9.6,6.9,10.3,8.1,4.8,10.3,11.8,11.6,10.5,10.6,12.7,11.4,11.5,11.9,11.7,12.0,7.6,5.9,12.3,12.8,11.7,9.7,11.2,12.5,12.2,12.2,8.7,10.4,11.0,8.6,11.7,13.2,9.7,11.0,11.7,13.4,11.6,12.9,13.4,9.3,12.8,10.7,10.6,12.6,14.8,15.0,9.9,12.9,7.2,3.2,8.4,9.7,10.6,9.7,6.7,9.7,16.1,15.9,11.5,12.4,12.2,13.4,11.9,11.4,14.1,15.7,14.8,5.6,6.6,10.5,15.9,15.5,10.9,14.7,11.9,14.4,14.9,12.9,15.2,13.2,13.2,17.4,7.6,11.3,11.3,15.9,14.5,15.5,15.6,17.6,7.0,16.6,14.9,16.6,17.1,14.6,17.4,9.5,17.0,12.9,8.5,10.1,9.6,10.1,11.8,15.5,19.8,18.9,5.7,12.0,18.9,18.0,20.7,5.5,21.4,14.2,17.3,20.2,20.8,15.0,18.4,14.0,5.3,20.2,18.3,16.9,19.7,11.8,19.0,8.8,20.1,17.1,19.4,19.6,20.7,15.2,12.6,9.2,19.2,17.3,13.3,23.8,22.2,12.5,18.0,7.3,15.9,8.0,21.5,22.1,21.8,10.8,6.6,9.5,10.4,1.6,24.4,19.0,10.9,16.0,10.8,18.5,23.2,17.2,22.6,19.6,25.5,25.4,24.2,18.0,21.7,26.2,15.3,8.7,25.4,20.7,22.3,13.6,22.6,9.3,21.2,19.2,14.6,11.6,22.4,16.7,7.2,27.0,24.7,25.4,14.7,23.7,23.8,1.6,3.2,5.3,5.5,6.6,5.7,4.8,7.2,7.3,5.3,5.6,8.7,5.9,9.3,8.0,6.7,7.0,6.6,7.6,9.2,7.2,8.5,9.5,8.8,6.9,7.3,9.5,10.8,10.9,7.6,10.8,9.6,10.1,10.4,10.1,11.6,8.4,8.1,8.7,11.8,9.7,9.7,8.6,9.7,12.5,13.6,9.3,11.3,10.5,10.9,14.7,12.6,11.3,9.9,12.0,9.4,11.8,14.6,8.8,13.3,10.6,12.9,10.6,8.7,15.3,9.7,9.5,11.4,9.6,9.7,10.7,14.0,10.4,11.5,12.4,16.7,16.0,11.9,11.0,11.9,13.2,14.2,11.6,15.2,15.9,11.0,18.0,12.9,11.2,17.2,13.2,19.2,12.2,13.4,10.3,10.3,15.5,15.0,14.6,17.3,10.1,18.5,10.5,16.9,18.0,14.5,12.6,19.6,11.7,11.7,19.0,14.4,14.9,14.1,12.8,17.1,12.9,21.2,20.7,15.5,15.6,14.7,14.9,17.3,15.2,19.2,22.4,11.7,16.6,23.7,18.3,10.6,11.4,16.6,19.0,22.6,12.2,12.9,15.9,18.4,23.8,17.0,21.7,17.4,17.1,22.6,22.3,19.4,18.0,12.2,19.6,24.7,20.1,11.5,11.7,11.6,13.4,14.8,21.5,15.5,19.7,22.1,13.4,11.9,18.9,12.5,20.7,15.7,12.3,23.2,13.2,15.9,21.8,25.4,20.2,18.9,22.2,17.6,19.8,24.2,20.2,12.0,12.7,17.4,25.4,20.8,11.8,27.0,14.8,16.1,24.4,25.5,15.0,15.9,26.2,25.4,12.8,21.4,20.7,23.8,17.4,9.3,4.8,20.7,20.7,5.7,9.5,14.1,24.7,30.3,15.9,17.4,25.4,20.7,11.9,19.8,3.2,10.8,11.7,27.200000000000003,27.8,9.7,27.5,9.7,10.5,14.0,24.4,28.2,10.3,8.8,39.099999999999994,5.3,15.6,13.4,15.9,11.5,18.9,13.2,10.9,15.2,15.0,11.7,10.9,28.5,7.6,30.8,9.4,11.6,20.2,12.0,13.2,7.6,12.6,14.7,17.3,21.0,8.4,23.2,14.6,8.8,12.2,12.0,22.6,20.2,9.6,10.1,6.9,10.6,22.9,8.0,15.5,18.4,34.8,11.0,30.5,6.7,24.3,11.8,8.6,10.1,32.4,10.6,15.5,12.9,10.3,22.3,15.7,12.2,18.0,15.899999999999999,27.200000000000003,14.4,11.0,14.9,22.5,12.4,21.5,11.3,7.3,21.7,10.4,14.6,24.3,10.1,11.7,13.6,10.6,9.7,12.3,16.1,42.8,20.1,11.9,35.400000000000006,11.4,22.6,10.5,5.5,27.0,12.7,9.7,21.4,8.5,25.4,30.0,7.3,14.7,17.2,19.0,15.5,14.5,11.6,13.3,5.6,11.7,14.8,7.0,15.3,6.6,25.4,16.7,12.6,39.3,18.0,24.2,24.4,13.4,17.1,12.9,18.5,21.2,38.599999999999994,20.8,23.7,16.0,10.8,15.2,9.2,25.5,22.1,9.3,26.2,22.2,12.9,19.7,7.2,19.2,15.9,11.9,8.7,23.8,12.5],\"type\":\"sunburst\"}],                        {\"template\":{\"data\":{\"histogram2dcontour\":[{\"type\":\"histogram2dcontour\",\"colorbar\":{\"outlinewidth\":0,\"ticks\":\"\"},\"colorscale\":[[0.0,\"#0d0887\"],[0.1111111111111111,\"#46039f\"],[0.2222222222222222,\"#7201a8\"],[0.3333333333333333,\"#9c179e\"],[0.4444444444444444,\"#bd3786\"],[0.5555555555555556,\"#d8576b\"],[0.6666666666666666,\"#ed7953\"],[0.7777777777777778,\"#fb9f3a\"],[0.8888888888888888,\"#fdca26\"],[1.0,\"#f0f921\"]]}],\"choropleth\":[{\"type\":\"choropleth\",\"colorbar\":{\"outlinewidth\":0,\"ticks\":\"\"}}],\"histogram2d\":[{\"type\":\"histogram2d\",\"colorbar\":{\"outlinewidth\":0,\"ticks\":\"\"},\"colorscale\":[[0.0,\"#0d0887\"],[0.1111111111111111,\"#46039f\"],[0.2222222222222222,\"#7201a8\"],[0.3333333333333333,\"#9c179e\"],[0.4444444444444444,\"#bd3786\"],[0.5555555555555556,\"#d8576b\"],[0.6666666666666666,\"#ed7953\"],[0.7777777777777778,\"#fb9f3a\"],[0.8888888888888888,\"#fdca26\"],[1.0,\"#f0f921\"]]}],\"heatmap\":[{\"type\":\"heatmap\",\"colorbar\":{\"outlinewidth\":0,\"ticks\":\"\"},\"colorscale\":[[0.0,\"#0d0887\"],[0.1111111111111111,\"#46039f\"],[0.2222222222222222,\"#7201a8\"],[0.3333333333333333,\"#9c179e\"],[0.4444444444444444,\"#bd3786\"],[0.5555555555555556,\"#d8576b\"],[0.6666666666666666,\"#ed7953\"],[0.7777777777777778,\"#fb9f3a\"],[0.8888888888888888,\"#fdca26\"],[1.0,\"#f0f921\"]]}],\"heatmapgl\":[{\"type\":\"heatmapgl\",\"colorbar\":{\"outlinewidth\":0,\"ticks\":\"\"},\"colorscale\":[[0.0,\"#0d0887\"],[0.1111111111111111,\"#46039f\"],[0.2222222222222222,\"#7201a8\"],[0.3333333333333333,\"#9c179e\"],[0.4444444444444444,\"#bd3786\"],[0.5555555555555556,\"#d8576b\"],[0.6666666666666666,\"#ed7953\"],[0.7777777777777778,\"#fb9f3a\"],[0.8888888888888888,\"#fdca26\"],[1.0,\"#f0f921\"]]}],\"contourcarpet\":[{\"type\":\"contourcarpet\",\"colorbar\":{\"outlinewidth\":0,\"ticks\":\"\"}}],\"contour\":[{\"type\":\"contour\",\"colorbar\":{\"outlinewidth\":0,\"ticks\":\"\"},\"colorscale\":[[0.0,\"#0d0887\"],[0.1111111111111111,\"#46039f\"],[0.2222222222222222,\"#7201a8\"],[0.3333333333333333,\"#9c179e\"],[0.4444444444444444,\"#bd3786\"],[0.5555555555555556,\"#d8576b\"],[0.6666666666666666,\"#ed7953\"],[0.7777777777777778,\"#fb9f3a\"],[0.8888888888888888,\"#fdca26\"],[1.0,\"#f0f921\"]]}],\"surface\":[{\"type\":\"surface\",\"colorbar\":{\"outlinewidth\":0,\"ticks\":\"\"},\"colorscale\":[[0.0,\"#0d0887\"],[0.1111111111111111,\"#46039f\"],[0.2222222222222222,\"#7201a8\"],[0.3333333333333333,\"#9c179e\"],[0.4444444444444444,\"#bd3786\"],[0.5555555555555556,\"#d8576b\"],[0.6666666666666666,\"#ed7953\"],[0.7777777777777778,\"#fb9f3a\"],[0.8888888888888888,\"#fdca26\"],[1.0,\"#f0f921\"]]}],\"mesh3d\":[{\"type\":\"mesh3d\",\"colorbar\":{\"outlinewidth\":0,\"ticks\":\"\"}}],\"scatter\":[{\"fillpattern\":{\"fillmode\":\"overlay\",\"size\":10,\"solidity\":0.2},\"type\":\"scatter\"}],\"parcoords\":[{\"type\":\"parcoords\",\"line\":{\"colorbar\":{\"outlinewidth\":0,\"ticks\":\"\"}}}],\"scatterpolargl\":[{\"type\":\"scatterpolargl\",\"marker\":{\"colorbar\":{\"outlinewidth\":0,\"ticks\":\"\"}}}],\"bar\":[{\"error_x\":{\"color\":\"#2a3f5f\"},\"error_y\":{\"color\":\"#2a3f5f\"},\"marker\":{\"line\":{\"color\":\"#E5ECF6\",\"width\":0.5},\"pattern\":{\"fillmode\":\"overlay\",\"size\":10,\"solidity\":0.2}},\"type\":\"bar\"}],\"scattergeo\":[{\"type\":\"scattergeo\",\"marker\":{\"colorbar\":{\"outlinewidth\":0,\"ticks\":\"\"}}}],\"scatterpolar\":[{\"type\":\"scatterpolar\",\"marker\":{\"colorbar\":{\"outlinewidth\":0,\"ticks\":\"\"}}}],\"histogram\":[{\"marker\":{\"pattern\":{\"fillmode\":\"overlay\",\"size\":10,\"solidity\":0.2}},\"type\":\"histogram\"}],\"scattergl\":[{\"type\":\"scattergl\",\"marker\":{\"colorbar\":{\"outlinewidth\":0,\"ticks\":\"\"}}}],\"scatter3d\":[{\"type\":\"scatter3d\",\"line\":{\"colorbar\":{\"outlinewidth\":0,\"ticks\":\"\"}},\"marker\":{\"colorbar\":{\"outlinewidth\":0,\"ticks\":\"\"}}}],\"scattermapbox\":[{\"type\":\"scattermapbox\",\"marker\":{\"colorbar\":{\"outlinewidth\":0,\"ticks\":\"\"}}}],\"scatterternary\":[{\"type\":\"scatterternary\",\"marker\":{\"colorbar\":{\"outlinewidth\":0,\"ticks\":\"\"}}}],\"scattercarpet\":[{\"type\":\"scattercarpet\",\"marker\":{\"colorbar\":{\"outlinewidth\":0,\"ticks\":\"\"}}}],\"carpet\":[{\"aaxis\":{\"endlinecolor\":\"#2a3f5f\",\"gridcolor\":\"white\",\"linecolor\":\"white\",\"minorgridcolor\":\"white\",\"startlinecolor\":\"#2a3f5f\"},\"baxis\":{\"endlinecolor\":\"#2a3f5f\",\"gridcolor\":\"white\",\"linecolor\":\"white\",\"minorgridcolor\":\"white\",\"startlinecolor\":\"#2a3f5f\"},\"type\":\"carpet\"}],\"table\":[{\"cells\":{\"fill\":{\"color\":\"#EBF0F8\"},\"line\":{\"color\":\"white\"}},\"header\":{\"fill\":{\"color\":\"#C8D4E3\"},\"line\":{\"color\":\"white\"}},\"type\":\"table\"}],\"barpolar\":[{\"marker\":{\"line\":{\"color\":\"#E5ECF6\",\"width\":0.5},\"pattern\":{\"fillmode\":\"overlay\",\"size\":10,\"solidity\":0.2}},\"type\":\"barpolar\"}],\"pie\":[{\"automargin\":true,\"type\":\"pie\"}]},\"layout\":{\"autotypenumbers\":\"strict\",\"colorway\":[\"#636efa\",\"#EF553B\",\"#00cc96\",\"#ab63fa\",\"#FFA15A\",\"#19d3f3\",\"#FF6692\",\"#B6E880\",\"#FF97FF\",\"#FECB52\"],\"font\":{\"color\":\"#2a3f5f\"},\"hovermode\":\"closest\",\"hoverlabel\":{\"align\":\"left\"},\"paper_bgcolor\":\"white\",\"plot_bgcolor\":\"#E5ECF6\",\"polar\":{\"bgcolor\":\"#E5ECF6\",\"angularaxis\":{\"gridcolor\":\"white\",\"linecolor\":\"white\",\"ticks\":\"\"},\"radialaxis\":{\"gridcolor\":\"white\",\"linecolor\":\"white\",\"ticks\":\"\"}},\"ternary\":{\"bgcolor\":\"#E5ECF6\",\"aaxis\":{\"gridcolor\":\"white\",\"linecolor\":\"white\",\"ticks\":\"\"},\"baxis\":{\"gridcolor\":\"white\",\"linecolor\":\"white\",\"ticks\":\"\"},\"caxis\":{\"gridcolor\":\"white\",\"linecolor\":\"white\",\"ticks\":\"\"}},\"coloraxis\":{\"colorbar\":{\"outlinewidth\":0,\"ticks\":\"\"}},\"colorscale\":{\"sequential\":[[0.0,\"#0d0887\"],[0.1111111111111111,\"#46039f\"],[0.2222222222222222,\"#7201a8\"],[0.3333333333333333,\"#9c179e\"],[0.4444444444444444,\"#bd3786\"],[0.5555555555555556,\"#d8576b\"],[0.6666666666666666,\"#ed7953\"],[0.7777777777777778,\"#fb9f3a\"],[0.8888888888888888,\"#fdca26\"],[1.0,\"#f0f921\"]],\"sequentialminus\":[[0.0,\"#0d0887\"],[0.1111111111111111,\"#46039f\"],[0.2222222222222222,\"#7201a8\"],[0.3333333333333333,\"#9c179e\"],[0.4444444444444444,\"#bd3786\"],[0.5555555555555556,\"#d8576b\"],[0.6666666666666666,\"#ed7953\"],[0.7777777777777778,\"#fb9f3a\"],[0.8888888888888888,\"#fdca26\"],[1.0,\"#f0f921\"]],\"diverging\":[[0,\"#8e0152\"],[0.1,\"#c51b7d\"],[0.2,\"#de77ae\"],[0.3,\"#f1b6da\"],[0.4,\"#fde0ef\"],[0.5,\"#f7f7f7\"],[0.6,\"#e6f5d0\"],[0.7,\"#b8e186\"],[0.8,\"#7fbc41\"],[0.9,\"#4d9221\"],[1,\"#276419\"]]},\"xaxis\":{\"gridcolor\":\"white\",\"linecolor\":\"white\",\"ticks\":\"\",\"title\":{\"standoff\":15},\"zerolinecolor\":\"white\",\"automargin\":true,\"zerolinewidth\":2},\"yaxis\":{\"gridcolor\":\"white\",\"linecolor\":\"white\",\"ticks\":\"\",\"title\":{\"standoff\":15},\"zerolinecolor\":\"white\",\"automargin\":true,\"zerolinewidth\":2},\"scene\":{\"xaxis\":{\"backgroundcolor\":\"#E5ECF6\",\"gridcolor\":\"white\",\"linecolor\":\"white\",\"showbackground\":true,\"ticks\":\"\",\"zerolinecolor\":\"white\",\"gridwidth\":2},\"yaxis\":{\"backgroundcolor\":\"#E5ECF6\",\"gridcolor\":\"white\",\"linecolor\":\"white\",\"showbackground\":true,\"ticks\":\"\",\"zerolinecolor\":\"white\",\"gridwidth\":2},\"zaxis\":{\"backgroundcolor\":\"#E5ECF6\",\"gridcolor\":\"white\",\"linecolor\":\"white\",\"showbackground\":true,\"ticks\":\"\",\"zerolinecolor\":\"white\",\"gridwidth\":2}},\"shapedefaults\":{\"line\":{\"color\":\"#2a3f5f\"}},\"annotationdefaults\":{\"arrowcolor\":\"#2a3f5f\",\"arrowhead\":0,\"arrowwidth\":1},\"geo\":{\"bgcolor\":\"white\",\"landcolor\":\"#E5ECF6\",\"subunitcolor\":\"white\",\"showland\":true,\"showlakes\":true,\"lakecolor\":\"white\"},\"title\":{\"x\":0.05},\"mapbox\":{\"style\":\"light\"}}},\"legend\":{\"tracegroupgap\":0},\"title\":{\"text\":\"Sales prediction\"},\"height\":700,\"width\":700},                        {\"responsive\": true}                    ).then(function(){\n",
       "                            \n",
       "var gd = document.getElementById('d9700047-0297-46ed-b6bf-f5e7ca22efd9');\n",
       "var x = new MutationObserver(function (mutations, observer) {{\n",
       "        var display = window.getComputedStyle(gd).display;\n",
       "        if (!display || display === 'none') {{\n",
       "            console.log([gd, 'removed!']);\n",
       "            Plotly.purge(gd);\n",
       "            observer.disconnect();\n",
       "        }}\n",
       "}});\n",
       "\n",
       "// Listen for the removal of the full notebook cells\n",
       "var notebookContainer = gd.closest('#notebook-container');\n",
       "if (notebookContainer) {{\n",
       "    x.observe(notebookContainer, {childList: true});\n",
       "}}\n",
       "\n",
       "// Listen for the clearing of the current output cell\n",
       "var outputEl = gd.closest('.output');\n",
       "if (outputEl) {{\n",
       "    x.observe(outputEl, {childList: true});\n",
       "}}\n",
       "\n",
       "                        })                };                });            </script>        </div>"
      ]
     },
     "metadata": {},
     "output_type": "display_data"
    }
   ],
   "source": [
    "import plotly.express as px\n",
    "data = df[[\"Newspaper\", \"TV\", \"Radio\"]]\n",
    "figure = px.sunburst(df, path=[\"Newspaper\", \"TV\" ,\"Radio\"], \n",
    "                     values=\"Sales\", \n",
    "                     width=700, height=700, color_continuous_scale=\"RdY1Gn\", \n",
    "                     title=\"Sales prediction\")\n",
    "figure.show()"
   ]
  },
  {
   "cell_type": "code",
   "execution_count": 33,
   "id": "3b5b5f49",
   "metadata": {},
   "outputs": [
    {
     "name": "stdout",
     "output_type": "stream",
     "text": [
      "['TV', 'Radio', 'Sales']\n"
     ]
    }
   ],
   "source": [
    "important_features = list(df.corr()['Sales'][(df.corr()['Sales']>+0.5)|(df.corr()['Sales']<-0.5)].index)\n",
    "print(important_features)\n"
   ]
  },
  {
   "cell_type": "code",
   "execution_count": 48,
   "id": "ee0e63e3",
   "metadata": {},
   "outputs": [
    {
     "data": {
      "text/html": [
       "<div>\n",
       "<style scoped>\n",
       "    .dataframe tbody tr th:only-of-type {\n",
       "        vertical-align: middle;\n",
       "    }\n",
       "\n",
       "    .dataframe tbody tr th {\n",
       "        vertical-align: top;\n",
       "    }\n",
       "\n",
       "    .dataframe thead th {\n",
       "        text-align: right;\n",
       "    }\n",
       "</style>\n",
       "<table border=\"1\" class=\"dataframe\">\n",
       "  <thead>\n",
       "    <tr style=\"text-align: right;\">\n",
       "      <th></th>\n",
       "      <th>Unnamed: 0</th>\n",
       "      <th>TV</th>\n",
       "      <th>Radio</th>\n",
       "      <th>Newspaper</th>\n",
       "      <th>Sales</th>\n",
       "    </tr>\n",
       "  </thead>\n",
       "  <tbody>\n",
       "    <tr>\n",
       "      <th>34</th>\n",
       "      <td>35</td>\n",
       "      <td>95.7</td>\n",
       "      <td>1.4</td>\n",
       "      <td>7.4</td>\n",
       "      <td>9.5</td>\n",
       "    </tr>\n",
       "    <tr>\n",
       "      <th>86</th>\n",
       "      <td>87</td>\n",
       "      <td>76.3</td>\n",
       "      <td>27.5</td>\n",
       "      <td>16.0</td>\n",
       "      <td>12.0</td>\n",
       "    </tr>\n",
       "    <tr>\n",
       "      <th>130</th>\n",
       "      <td>131</td>\n",
       "      <td>0.7</td>\n",
       "      <td>39.6</td>\n",
       "      <td>8.7</td>\n",
       "      <td>1.6</td>\n",
       "    </tr>\n",
       "    <tr>\n",
       "      <th>133</th>\n",
       "      <td>134</td>\n",
       "      <td>219.8</td>\n",
       "      <td>33.5</td>\n",
       "      <td>45.1</td>\n",
       "      <td>19.6</td>\n",
       "    </tr>\n",
       "    <tr>\n",
       "      <th>126</th>\n",
       "      <td>127</td>\n",
       "      <td>7.8</td>\n",
       "      <td>38.9</td>\n",
       "      <td>50.6</td>\n",
       "      <td>6.6</td>\n",
       "    </tr>\n",
       "    <tr>\n",
       "      <th>129</th>\n",
       "      <td>130</td>\n",
       "      <td>59.6</td>\n",
       "      <td>12.0</td>\n",
       "      <td>43.1</td>\n",
       "      <td>9.7</td>\n",
       "    </tr>\n",
       "    <tr>\n",
       "      <th>52</th>\n",
       "      <td>53</td>\n",
       "      <td>216.4</td>\n",
       "      <td>41.7</td>\n",
       "      <td>39.6</td>\n",
       "      <td>22.6</td>\n",
       "    </tr>\n",
       "    <tr>\n",
       "      <th>82</th>\n",
       "      <td>83</td>\n",
       "      <td>75.3</td>\n",
       "      <td>20.3</td>\n",
       "      <td>32.5</td>\n",
       "      <td>11.3</td>\n",
       "    </tr>\n",
       "  </tbody>\n",
       "</table>\n",
       "</div>"
      ],
      "text/plain": [
       "     Unnamed: 0     TV  Radio  Newspaper  Sales\n",
       "34           35   95.7    1.4        7.4    9.5\n",
       "86           87   76.3   27.5       16.0   12.0\n",
       "130         131    0.7   39.6        8.7    1.6\n",
       "133         134  219.8   33.5       45.1   19.6\n",
       "126         127    7.8   38.9       50.6    6.6\n",
       "129         130   59.6   12.0       43.1    9.7\n",
       "52           53  216.4   41.7       39.6   22.6\n",
       "82           83   75.3   20.3       32.5   11.3"
      ]
     },
     "execution_count": 48,
     "metadata": {},
     "output_type": "execute_result"
    }
   ],
   "source": [
    "df.sample(8)"
   ]
  },
  {
   "cell_type": "code",
   "execution_count": 49,
   "id": "823dded3",
   "metadata": {},
   "outputs": [
    {
     "data": {
      "text/plain": [
       "<bound method DataFrame.isnull of      Unnamed: 0     TV  Radio  Newspaper  Sales\n",
       "0             1  230.1   37.8       69.2   22.1\n",
       "1             2   44.5   39.3       45.1   10.4\n",
       "2             3   17.2   45.9       69.3    9.3\n",
       "3             4  151.5   41.3       58.5   18.5\n",
       "4             5  180.8   10.8       58.4   12.9\n",
       "..          ...    ...    ...        ...    ...\n",
       "195         196   38.2    3.7       13.8    7.6\n",
       "196         197   94.2    4.9        8.1    9.7\n",
       "197         198  177.0    9.3        6.4   12.8\n",
       "198         199  283.6   42.0       66.2   25.5\n",
       "199         200  232.1    8.6        8.7   13.4\n",
       "\n",
       "[200 rows x 5 columns]>"
      ]
     },
     "execution_count": 49,
     "metadata": {},
     "output_type": "execute_result"
    }
   ],
   "source": [
    "df.isnull"
   ]
  },
  {
   "cell_type": "code",
   "execution_count": 50,
   "id": "3bda496b",
   "metadata": {},
   "outputs": [
    {
     "data": {
      "text/plain": [
       "0      False\n",
       "1      False\n",
       "2      False\n",
       "3      False\n",
       "4      False\n",
       "       ...  \n",
       "195    False\n",
       "196    False\n",
       "197    False\n",
       "198    False\n",
       "199    False\n",
       "Length: 200, dtype: bool"
      ]
     },
     "execution_count": 50,
     "metadata": {},
     "output_type": "execute_result"
    }
   ],
   "source": [
    "df.duplicated()"
   ]
  },
  {
   "cell_type": "code",
   "execution_count": 52,
   "id": "f2764286",
   "metadata": {},
   "outputs": [],
   "source": [
    "import matplotlib.pyplot as plt\n",
    "import seaborn as sns\n",
    "import plotly.express as px"
   ]
  },
  {
   "cell_type": "code",
   "execution_count": 54,
   "id": "2475eae0",
   "metadata": {},
   "outputs": [
    {
     "data": {
      "text/plain": [
       "<Axes: xlabel='TV', ylabel='Count'>"
      ]
     },
     "execution_count": 54,
     "metadata": {},
     "output_type": "execute_result"
    },
    {
     "data": {
      "image/png": "[encoded data removed]",
      "text/plain": [
       "<Figure size 640x480 with 1 Axes>"
      ]
     },
     "metadata": {},
     "output_type": "display_data"
    }
   ],
   "source": [
    "sns.histplot(df['TV'])"
   ]
  },
  {
   "cell_type": "code",
   "execution_count": 55,
   "id": "6675aeca",
   "metadata": {},
   "outputs": [
    {
     "data": {
      "text/plain": [
       "<Axes: xlabel='Newspaper', ylabel='Count'>"
      ]
     },
     "execution_count": 55,
     "metadata": {},
     "output_type": "execute_result"
    },
    {
     "data": {
      "image/png": "[encoded data removed]",
      "text/plain": [
       "<Figure size 640x480 with 1 Axes>"
      ]
     },
     "metadata": {},
     "output_type": "display_data"
    }
   ],
   "source": [
    "sns.histplot(df['Newspaper'])"
   ]
  },
  {
   "cell_type": "code",
   "execution_count": 56,
   "id": "3fb320d1",
   "metadata": {},
   "outputs": [
    {
     "data": {
      "text/plain": [
       "<Axes: xlabel='Radio', ylabel='Count'>"
      ]
     },
     "execution_count": 56,
     "metadata": {},
     "output_type": "execute_result"
    },
    {
     "data": {
      "image/png": "[encoded data removed]",
      "text/plain": [
       "<Figure size 640x480 with 1 Axes>"
      ]
     },
     "metadata": {},
     "output_type": "display_data"
    }
   ],
   "source": [
    "sns.histplot(df['Radio'])"
   ]
  },
  {
   "cell_type": "code",
   "execution_count": 57,
   "id": "37109b67",
   "metadata": {},
   "outputs": [
    {
     "data": {
      "text/plain": [
       "<Axes: xlabel='Sales', ylabel='Count'>"
      ]
     },
     "execution_count": 57,
     "metadata": {},
     "output_type": "execute_result"
    },
    {
     "data": {
      "image/png": "[encoded data removed]",
      "text/plain": [
       "<Figure size 640x480 with 1 Axes>"
      ]
     },
     "metadata": {},
     "output_type": "display_data"
    }
   ],
   "source": [
    "sns.histplot(df['Sales'])"
   ]
  },
  {
   "cell_type": "code",
   "execution_count": 60,
   "id": "665dfa8e",
   "metadata": {},
   "outputs": [
    {
     "data": {
      "text/plain": [
       "<seaborn.axisgrid.PairGrid at 0x1a121877f90>"
      ]
     },
     "execution_count": 60,
     "metadata": {},
     "output_type": "execute_result"
    },
    {
     "data": {
      "image/png": "[encoded data removed]",
      "text/plain": [
       "<Figure size 576.375x500 with 6 Axes>"
      ]
     },
     "metadata": {},
     "output_type": "display_data"
    }
   ],
   "source": [
    "sns.pairplot(data,hue='TV')"
   ]
  },
  {
   "cell_type": "code",
   "execution_count": 61,
   "id": "c9cdd7ae",
   "metadata": {},
   "outputs": [
    {
     "data": {
      "text/plain": [
       "<seaborn.axisgrid.PairGrid at 0x1a121fe5050>"
      ]
     },
     "execution_count": 61,
     "metadata": {},
     "output_type": "execute_result"
    },
    {
     "data": {
      "image/png": "[encoded data removed]",
      "text/plain": [
       "<Figure size 567.625x500 with 6 Axes>"
      ]
     },
     "metadata": {},
     "output_type": "display_data"
    }
   ],
   "source": [
    "sns.pairplot(data,hue='Radio')"
   ]
  },
  {
   "cell_type": "code",
   "execution_count": 62,
   "id": "9b17295e",
   "metadata": {},
   "outputs": [
    {
     "data": {
      "text/plain": [
       "<seaborn.axisgrid.PairGrid at 0x1a123bd5a90>"
      ]
     },
     "execution_count": 62,
     "metadata": {},
     "output_type": "execute_result"
    },
    {
     "data": {
      "image/png": "[encoded data removed]",
      "text/plain": [
       "<Figure size 589.111x500 with 6 Axes>"
      ]
     },
     "metadata": {},
     "output_type": "display_data"
    }
   ],
   "source": [
    "sns.pairplot(data,hue='Newspaper')"
   ]
  },
  {
   "cell_type": "code",
   "execution_count": 63,
   "id": "da597c73",
   "metadata": {},
   "outputs": [],
   "source": [
    "from sklearn.metrics import  mean_squared_error , r2_score\n",
    "from sklearn.model_selection import cross_val_score,GridSearchCV\n",
    "from sklearn.neighbors import KNeighborsRegressor\n",
    "from sklearn.svm import SVR\n",
    "from sklearn.tree import DecisionTreeRegressor\n",
    "from sklearn.ensemble import RandomForestRegressor"
   ]
  },
  {
   "cell_type": "code",
   "execution_count": 65,
   "id": "e79d3cf6",
   "metadata": {},
   "outputs": [],
   "source": [
    "from sklearn.linear_model import LogisticRegression\n",
    "from sklearn.model_selection import train_test_split\n"
   ]
  },
  {
   "cell_type": "code",
   "execution_count": 69,
   "id": "3836ed09",
   "metadata": {},
   "outputs": [
    {
     "data": {
      "text/html": [
       "<div>\n",
       "<style scoped>\n",
       "    .dataframe tbody tr th:only-of-type {\n",
       "        vertical-align: middle;\n",
       "    }\n",
       "\n",
       "    .dataframe tbody tr th {\n",
       "        vertical-align: top;\n",
       "    }\n",
       "\n",
       "    .dataframe thead th {\n",
       "        text-align: right;\n",
       "    }\n",
       "</style>\n",
       "<table border=\"1\" class=\"dataframe\">\n",
       "  <thead>\n",
       "    <tr style=\"text-align: right;\">\n",
       "      <th></th>\n",
       "      <th>Newspaper</th>\n",
       "      <th>TV</th>\n",
       "    </tr>\n",
       "  </thead>\n",
       "  <tbody>\n",
       "    <tr>\n",
       "      <th>0</th>\n",
       "      <td>69.2</td>\n",
       "      <td>230.1</td>\n",
       "    </tr>\n",
       "    <tr>\n",
       "      <th>1</th>\n",
       "      <td>45.1</td>\n",
       "      <td>44.5</td>\n",
       "    </tr>\n",
       "    <tr>\n",
       "      <th>2</th>\n",
       "      <td>69.3</td>\n",
       "      <td>17.2</td>\n",
       "    </tr>\n",
       "    <tr>\n",
       "      <th>3</th>\n",
       "      <td>58.5</td>\n",
       "      <td>151.5</td>\n",
       "    </tr>\n",
       "    <tr>\n",
       "      <th>4</th>\n",
       "      <td>58.4</td>\n",
       "      <td>180.8</td>\n",
       "    </tr>\n",
       "    <tr>\n",
       "      <th>...</th>\n",
       "      <td>...</td>\n",
       "      <td>...</td>\n",
       "    </tr>\n",
       "    <tr>\n",
       "      <th>195</th>\n",
       "      <td>13.8</td>\n",
       "      <td>38.2</td>\n",
       "    </tr>\n",
       "    <tr>\n",
       "      <th>196</th>\n",
       "      <td>8.1</td>\n",
       "      <td>94.2</td>\n",
       "    </tr>\n",
       "    <tr>\n",
       "      <th>197</th>\n",
       "      <td>6.4</td>\n",
       "      <td>177.0</td>\n",
       "    </tr>\n",
       "    <tr>\n",
       "      <th>198</th>\n",
       "      <td>66.2</td>\n",
       "      <td>283.6</td>\n",
       "    </tr>\n",
       "    <tr>\n",
       "      <th>199</th>\n",
       "      <td>8.7</td>\n",
       "      <td>232.1</td>\n",
       "    </tr>\n",
       "  </tbody>\n",
       "</table>\n",
       "<p>200 rows × 2 columns</p>\n",
       "</div>"
      ],
      "text/plain": [
       "     Newspaper     TV\n",
       "0         69.2  230.1\n",
       "1         45.1   44.5\n",
       "2         69.3   17.2\n",
       "3         58.5  151.5\n",
       "4         58.4  180.8\n",
       "..         ...    ...\n",
       "195       13.8   38.2\n",
       "196        8.1   94.2\n",
       "197        6.4  177.0\n",
       "198       66.2  283.6\n",
       "199        8.7  232.1\n",
       "\n",
       "[200 rows x 2 columns]"
      ]
     },
     "execution_count": 69,
     "metadata": {},
     "output_type": "execute_result"
    }
   ],
   "source": [
    "x= data.iloc[:,0:-1]\n",
    "x"
   ]
  },
  {
   "cell_type": "code",
   "execution_count": 70,
   "id": "03ee8857",
   "metadata": {},
   "outputs": [
    {
     "data": {
      "text/plain": [
       "0      37.8\n",
       "1      39.3\n",
       "2      45.9\n",
       "3      41.3\n",
       "4      10.8\n",
       "       ... \n",
       "195     3.7\n",
       "196     4.9\n",
       "197     9.3\n",
       "198    42.0\n",
       "199     8.6\n",
       "Name: Radio, Length: 200, dtype: float64"
      ]
     },
     "execution_count": 70,
     "metadata": {},
     "output_type": "execute_result"
    }
   ],
   "source": [
    "y= data.iloc[:,-1]\n",
    "y"
   ]
  },
  {
   "cell_type": "code",
   "execution_count": 71,
   "id": "60214896",
   "metadata": {},
   "outputs": [],
   "source": [
    "X_train, X_test, y_train, y_test = train_test_split(X, y, test_size=0.2, random_state=42)\n"
   ]
  },
  {
   "cell_type": "code",
   "execution_count": 77,
   "id": "37ac7084",
   "metadata": {},
   "outputs": [],
   "source": [
    "logmodel = LogisticRegression()\n"
   ]
  },
  {
   "cell_type": "code",
   "execution_count": 82,
   "id": "041a81bd",
   "metadata": {},
   "outputs": [],
   "source": [
    "X_train_reshaped = X_train.values.reshape(-1, 1)\n",
    "X_test_reshaped = X_test.values.reshape(-1, 1)\n",
    "\n"
   ]
  },
  {
   "cell_type": "code",
   "execution_count": null,
   "id": "8cbe9732",
   "metadata": {},
   "outputs": [],
   "source": []
  },
  {
   "cell_type": "code",
   "execution_count": null,
   "id": "4f01fc81",
   "metadata": {},
   "outputs": [],
   "source": []
  },
  {
   "cell_type": "code",
   "execution_count": null,
   "id": "147de708",
   "metadata": {},
   "outputs": [],
   "source": []
  }
 ],
 "metadata": {
  "kernelspec": {
   "display_name": "Python 3 (ipykernel)",
   "language": "python",
   "name": "python3"
  },
  "language_info": {
   "codemirror_mode": {
    "name": "ipython",
    "version": 3
   },
   "file_extension": ".py",
   "mimetype": "text/x-python",
   "name": "python",
   "nbconvert_exporter": "python",
   "pygments_lexer": "ipython3",
   "version": "3.11.4"
  }
 },
 "nbformat": 4,
 "nbformat_minor": 5
}
